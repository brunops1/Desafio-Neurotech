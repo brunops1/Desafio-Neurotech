{
  "nbformat": 4,
  "nbformat_minor": 0,
  "metadata": {
    "colab": {
      "name": "Desafio_Neurotech_Bruno.pynb",
      "provenance": [],
      "collapsed_sections": [
        "f1Gg0E-z3D6r",
        "0Jin-0rrEYH5",
        "2Yzm66W2FgR_"
      ],
      "include_colab_link": true
    },
    "kernelspec": {
      "name": "python3",
      "display_name": "Python 3"
    },
    "language_info": {
      "name": "python"
    }
  },
  "cells": [
    {
      "cell_type": "markdown",
      "metadata": {
        "id": "view-in-github",
        "colab_type": "text"
      },
      "source": [
        "<a href=\"https://colab.research.google.com/github/brunops1/Desafio-Neurotech/blob/main/Desafio_Neurotech_Bruno_pynb.ipynb\" target=\"_parent\"><img src=\"https://colab.research.google.com/assets/colab-badge.svg\" alt=\"Open In Colab\"/></a>"
      ]
    },
    {
      "cell_type": "markdown",
      "source": [
        "# Instalações e Importações"
      ],
      "metadata": {
        "id": "EdBZKWccHuxK"
      }
    },
    {
      "cell_type": "code",
      "execution_count": null,
      "metadata": {
        "id": "JmcO4uWZ3OLO"
      },
      "outputs": [],
      "source": [
        "# instalar as dependências\n",
        "!apt-get update -qq\n",
        "!apt-get install openjdk-8-jdk-headless -qq > /dev/null\n",
        "!wget -q https://archive.apache.org/dist/spark/spark-3.1.2/spark-3.1.2-bin-hadoop2.7.tgz\n",
        "!tar xf spark-3.1.2-bin-hadoop2.7.tgz\n",
        "!pip install -q findspark"
      ]
    },
    {
      "cell_type": "code",
      "source": [
        "import os\n",
        "os.environ[\"JAVA_HOME\"] = \"/usr/lib/jvm/java-8-openjdk-amd64\"\n",
        "os.environ[\"SPARK_HOME\"] = \"/content/spark-3.1.2-bin-hadoop2.7\""
      ],
      "metadata": {
        "id": "Q6Ac42llxXBV"
      },
      "execution_count": null,
      "outputs": []
    },
    {
      "cell_type": "code",
      "source": [
        "import findspark\n",
        "findspark.init()"
      ],
      "metadata": {
        "id": "FvSAGEPqxYg1"
      },
      "execution_count": null,
      "outputs": []
    },
    {
      "cell_type": "code",
      "source": [
        "from pyspark.sql import SparkSession\n",
        "\n",
        "spark = SparkSession.builder \\\n",
        "    .master('local[*]') \\\n",
        "    .appName(\"desafio neurotech park\") \\\n",
        "    .config('spark.ui.port', '4050') \\\n",
        "    .getOrCreate()"
      ],
      "metadata": {
        "id": "X84gT92VyvDV"
      },
      "execution_count": null,
      "outputs": []
    },
    {
      "cell_type": "code",
      "source": [
        "!wget -q https://bin.equinox.io/c/4VmDzA7iaHb/ngrok-stable-linux-amd64.zip\n",
        "!unzip ngrok-stable-linux-amd64.zip"
      ],
      "metadata": {
        "colab": {
          "base_uri": "https://localhost:8080/"
        },
        "id": "sjyWEorQzmjV",
        "outputId": "36b2b8a2-79bd-4dc7-c037-c9376fb5bb8d"
      },
      "execution_count": null,
      "outputs": [
        {
          "output_type": "stream",
          "name": "stdout",
          "text": [
            "Archive:  ngrok-stable-linux-amd64.zip\n",
            "replace ngrok? [y]es, [n]o, [A]ll, [N]one, [r]ename: "
          ]
        }
      ]
    },
    {
      "cell_type": "code",
      "source": [
        "get_ipython().system_raw('./ngrok http 4050 &')"
      ],
      "metadata": {
        "id": "gAgfKatwzvC0"
      },
      "execution_count": null,
      "outputs": []
    },
    {
      "cell_type": "code",
      "source": [
        "!curl -s http://localhost:4040/api/tunnels"
      ],
      "metadata": {
        "colab": {
          "base_uri": "https://localhost:8080/"
        },
        "id": "TU59MDwnz2QT",
        "outputId": "df279640-2be6-4521-e483-58f204a634b5"
      },
      "execution_count": null,
      "outputs": [
        {
          "output_type": "stream",
          "name": "stdout",
          "text": [
            "{\"tunnels\":[],\"uri\":\"/api/tunnels\"}\n"
          ]
        }
      ]
    },
    {
      "cell_type": "code",
      "source": [
        "import pyspark\n",
        "from pyspark import SparkConf\n",
        "from pyspark import SparkContext\n",
        "from pyspark.sql import SQLContext\n",
        "import matplotlib\n",
        "import matplotlib.pyplot as plt\n",
        "from pyspark.sql import Row\n",
        "from pyspark.sql.functions import UserDefinedFunction\n",
        "from pyspark.sql.types import *\n",
        "import atexit\n",
        "from numpy import array\n",
        "import numpy as np\n",
        "import datetime\n",
        "import seaborn as sns\n",
        "import pandas as pd"
      ],
      "metadata": {
        "id": "5U4zhw5kx7Yf"
      },
      "execution_count": null,
      "outputs": []
    },
    {
      "cell_type": "code",
      "execution_count": null,
      "metadata": {
        "id": "6g2I8wYShfYJ",
        "colab": {
          "base_uri": "https://localhost:8080/"
        },
        "outputId": "b1cb11f0-ad94-418d-b3c0-eb81077b5fd7"
      },
      "outputs": [
        {
          "output_type": "stream",
          "name": "stdout",
          "text": [
            "Drive already mounted at /content/drive; to attempt to forcibly remount, call drive.mount(\"/content/drive\", force_remount=True).\n"
          ]
        }
      ],
      "source": [
        "from google.colab import drive\n",
        "drive.mount('/content/drive')"
      ]
    },
    {
      "cell_type": "code",
      "source": [
        "!pip install sklearn # Instalação da biblioteca SKLearn (Modelos de Aprendizado de Maquinas)"
      ],
      "metadata": {
        "colab": {
          "base_uri": "https://localhost:8080/"
        },
        "id": "hnGDsu0YUtRR",
        "outputId": "9ffaaa42-55b9-4c3d-b027-920f71405a7c"
      },
      "execution_count": null,
      "outputs": [
        {
          "output_type": "stream",
          "name": "stdout",
          "text": [
            "Requirement already satisfied: sklearn in /usr/local/lib/python3.7/dist-packages (0.0)\n",
            "Requirement already satisfied: scikit-learn in /usr/local/lib/python3.7/dist-packages (from sklearn) (1.0.2)\n",
            "Requirement already satisfied: joblib>=0.11 in /usr/local/lib/python3.7/dist-packages (from scikit-learn->sklearn) (1.1.0)\n",
            "Requirement already satisfied: threadpoolctl>=2.0.0 in /usr/local/lib/python3.7/dist-packages (from scikit-learn->sklearn) (3.0.0)\n",
            "Requirement already satisfied: scipy>=1.1.0 in /usr/local/lib/python3.7/dist-packages (from scikit-learn->sklearn) (1.4.1)\n",
            "Requirement already satisfied: numpy>=1.14.6 in /usr/local/lib/python3.7/dist-packages (from scikit-learn->sklearn) (1.19.5)\n"
          ]
        }
      ]
    },
    {
      "cell_type": "code",
      "source": [
        "!pip install graphviz==0.10\n",
        "!apt-get install graphviz"
      ],
      "metadata": {
        "colab": {
          "base_uri": "https://localhost:8080/"
        },
        "id": "1n16TItc3WOB",
        "outputId": "34d2fa3d-207e-40f5-ca8c-935a63f4c825"
      },
      "execution_count": null,
      "outputs": [
        {
          "output_type": "stream",
          "name": "stdout",
          "text": [
            "Requirement already satisfied: graphviz==0.10 in /usr/local/lib/python3.7/dist-packages (0.10)\n",
            "Reading package lists... Done\n",
            "Building dependency tree       \n",
            "Reading state information... Done\n",
            "graphviz is already the newest version (2.40.1-2).\n",
            "0 upgraded, 0 newly installed, 0 to remove and 75 not upgraded.\n"
          ]
        }
      ]
    },
    {
      "cell_type": "markdown",
      "source": [
        "# Carregamento dos dados\n"
      ],
      "metadata": {
        "id": "3sHc6OmP-h_7"
      }
    },
    {
      "cell_type": "code",
      "execution_count": null,
      "metadata": {
        "id": "sffAOcMQt_aR"
      },
      "outputs": [],
      "source": [
        "#import zipfile"
      ]
    },
    {
      "cell_type": "code",
      "execution_count": null,
      "metadata": {
        "id": "4RVsaljf8mus"
      },
      "outputs": [],
      "source": [
        "\n",
        "# zipfile.ZipFile('/content/drive/MyDrive/Desafio_Neurotech/AC.zip', 'r').extractall('/content/drive/MyDrive/Arquivos_Neurotech')\n",
        "# zipfile.ZipFile('/content/drive/MyDrive/Desafio_Neurotech/AL.zip', 'r').extractall('/content/drive/MyDrive/Arquivos_Neurotech')\n",
        "# zipfile.ZipFile('/content/drive/MyDrive/Desafio_Neurotech/AM.zip', 'r').extractall('/content/drive/MyDrive/Arquivos_Neurotech')\n",
        "# zipfile.ZipFile('/content/drive/MyDrive/Desafio_Neurotech/AP.zip', 'r').extractall('/content/drive/MyDrive/Arquivos_Neurotech')\n",
        "# zipfile.ZipFile('/content/drive/MyDrive/Desafio_Neurotech/BA.zip', 'r').extractall('/content/drive/MyDrive/Arquivos_Neurotech')\n",
        "# zipfile.ZipFile('/content/drive/MyDrive/Desafio_Neurotech/CE.zip', 'r').extractall('/content/drive/MyDrive/Arquivos_Neurotech')\n",
        "# zipfile.ZipFile('/content/drive/MyDrive/Desafio_Neurotech/DF.zip', 'r').extractall('/content/drive/MyDrive/Arquivos_Neurotech')\n",
        "# zipfile.ZipFile('/content/drive/MyDrive/Desafio_Neurotech/ES.zip', 'r').extractall('/content/drive/MyDrive/Arquivos_Neurotech')\n",
        "# zipfile.ZipFile('/content/drive/MyDrive/Desafio_Neurotech/GO.zip', 'r').extractall('/content/drive/MyDrive/Arquivos_Neurotech')\n",
        "# zipfile.ZipFile('/content/drive/MyDrive/Desafio_Neurotech/MA.zip', 'r').extractall('/content/drive/MyDrive/Arquivos_Neurotech')\n",
        "# zipfile.ZipFile('/content/drive/MyDrive/Desafio_Neurotech/MG.zip', 'r').extractall('/content/drive/MyDrive/Arquivos_Neurotech')\n",
        "# zipfile.ZipFile('/content/drive/MyDrive/Desafio_Neurotech/MS.zip', 'r').extractall('/content/drive/MyDrive/Arquivos_Neurotech')\n",
        "# zipfile.ZipFile('/content/drive/MyDrive/Desafio_Neurotech/MT.zip', 'r').extractall('/content/drive/MyDrive/Arquivos_Neurotech')\n",
        "# zipfile.ZipFile('/content/drive/MyDrive/Desafio_Neurotech/PA.zip', 'r').extractall('/content/drive/MyDrive/Arquivos_Neurotech')\n",
        "# zipfile.ZipFile('/content/drive/MyDrive/Desafio_Neurotech/PB.zip', 'r').extractall('/content/drive/MyDrive/Arquivos_Neurotech')\n",
        "# zipfile.ZipFile('/content/drive/MyDrive/Desafio_Neurotech/PE.zip', 'r').extractall('/content/drive/MyDrive/Arquivos_Neurotech')\n",
        "# zipfile.ZipFile('/content/drive/MyDrive/Desafio_Neurotech/PI.zip', 'r').extractall('/content/drive/MyDrive/Arquivos_Neurotech')\n",
        "# zipfile.ZipFile('/content/drive/MyDrive/Desafio_Neurotech/PR.zip', 'r').extractall('/content/drive/MyDrive/Arquivos_Neurotech')\n",
        "# zipfile.ZipFile('/content/drive/MyDrive/Desafio_Neurotech/RJ.zip', 'r').extractall('/content/drive/MyDrive/Arquivos_Neurotech')\n",
        "# zipfile.ZipFile('/content/drive/MyDrive/Desafio_Neurotech/RN.zip', 'r').extractall('/content/drive/MyDrive/Arquivos_Neurotech')\n",
        "# zipfile.ZipFile('/content/drive/MyDrive/Desafio_Neurotech/RO.zip', 'r').extractall('/content/drive/MyDrive/Arquivos_Neurotech')\n",
        "# zipfile.ZipFile('/content/drive/MyDrive/Desafio_Neurotech/RR.zip', 'r').extractall('/content/drive/MyDrive/Arquivos_Neurotech')\n",
        "# zipfile.ZipFile('/content/drive/MyDrive/Desafio_Neurotech/RS.zip', 'r').extractall('/content/drive/MyDrive/Arquivos_Neurotech')\n",
        "# zipfile.ZipFile('/content/drive/MyDrive/Desafio_Neurotech/SC.zip', 'r').extractall('/content/drive/MyDrive/Arquivos_Neurotech')\n",
        "# zipfile.ZipFile('/content/drive/MyDrive/Desafio_Neurotech/SE.zip', 'r').extractall('/content/drive/MyDrive/Arquivos_Neurotech')\n",
        "# zipfile.ZipFile('/content/drive/MyDrive/Desafio_Neurotech/SP.zip', 'r').extractall('/content/drive/MyDrive/Arquivos_Neurotech')\n",
        "# zipfile.ZipFile('/content/drive/MyDrive/Desafio_Neurotech/TO.zip', 'r').extractall('/content/drive/MyDrive/Arquivos_Neurotech')"
      ]
    },
    {
      "cell_type": "markdown",
      "source": [
        "BR_CONS"
      ],
      "metadata": {
        "id": "zBaeAzL_gFF7"
      }
    },
    {
      "cell_type": "code",
      "source": [
        "path = '/content/drive/MyDrive/Arquivos_Neurotech/AC/AC_CONS'\n",
        "BR_CONS = spark.read.csv(path, sep=';', header =True)\n",
        "path = '/content/drive/MyDrive/Arquivos_Neurotech/AL/AL_CONS'\n",
        "BR_CONS = spark.read.csv(path, sep=';', header =True)\n",
        "path = '/content/drive/MyDrive/Arquivos_Neurotech/AM/AM_CONS'\n",
        "BR_CONS = spark.read.csv(path, sep=';', header =True)\n",
        "path = '/content/drive/MyDrive/Arquivos_Neurotech/AP/AP_CONS'\n",
        "BR_CONS = spark.read.csv(path, sep=';', header =True)\n",
        "path = '/content/drive/MyDrive/Arquivos_Neurotech/BA/BA_CONS'\n",
        "BR_CONS = spark.read.csv(path, sep=';', header =True)\n",
        "path = '/content/drive/MyDrive/Arquivos_Neurotech/CE/CE_CONS'\n",
        "BR_CONS = spark.read.csv(path, sep=';', header =True)\n",
        "path = '/content/drive/MyDrive/Arquivos_Neurotech/DF/DF_CONS'\n",
        "BR_CONS = spark.read.csv(path, sep=';', header =True)\n",
        "path = '/content/drive/MyDrive/Arquivos_Neurotech/ES/ES_CONS'\n",
        "BR_CONS = spark.read.csv(path, sep=';', header =True)\n",
        "path = '/content/drive/MyDrive/Arquivos_Neurotech/GO/GO_CONS'\n",
        "BR_CONS = spark.read.csv(path, sep=';', header =True)\n",
        "path = '/content/drive/MyDrive/Arquivos_Neurotech/MA/MA_CONS'\n",
        "BR_CONS = spark.read.csv(path, sep=';', header =True)\n",
        "path = '/content/drive/MyDrive/Arquivos_Neurotech/MG/MG_CONS'\n",
        "BR_CONS = spark.read.csv(path, sep=';', header =True)\n",
        "path = '/content/drive/MyDrive/Arquivos_Neurotech/MS/MS_CONS'\n",
        "BR_CONS = spark.read.csv(path, sep=';', header =True)\n",
        "path = '/content/drive/MyDrive/Arquivos_Neurotech/MT/MT_CONS'\n",
        "BR_CONS = spark.read.csv(path, sep=';', header =True)\n",
        "path = '/content/drive/MyDrive/Arquivos_Neurotech/PA/PA_CONS'\n",
        "BR_CONS = spark.read.csv(path, sep=';', header =True)\n",
        "path = '/content/drive/MyDrive/Arquivos_Neurotech/PB/PB_CONS'\n",
        "BR = spark.read.csv(path, sep=';', header =True)\n",
        "path = '/content/drive/MyDrive/Arquivos_Neurotech/PE/PE_CONS'\n",
        "BR_CONS = spark.read.csv(path, sep=';', header =True)\n",
        "path = '/content/drive/MyDrive/Arquivos_Neurotech/PI/PI_CONS'\n",
        "BR_CONS = spark.read.csv(path, sep=';', header =True)\n",
        "path = '/content/drive/MyDrive/Arquivos_Neurotech/PR/PR_CONS'\n",
        "BR_CONS = spark.read.csv(path, sep=';', header =True)\n",
        "path = '/content/drive/MyDrive/Arquivos_Neurotech/RJ/RJ_CONS'\n",
        "BR_CONS = spark.read.csv(path, sep=';', header =True)\n",
        "path = '/content/drive/MyDrive/Arquivos_Neurotech/RN/RN_CONS'\n",
        "BR_CONS = spark.read.csv(path, sep=';', header =True)\n",
        "path = '/content/drive/MyDrive/Arquivos_Neurotech/RO/RO_CONS'\n",
        "BR_CONS = spark.read.csv(path, sep=';', header =True)\n",
        "path = '/content/drive/MyDrive/Arquivos_Neurotech/RR/RR_CONS'\n",
        "BR_CONS = spark.read.csv(path, sep=';', header =True)\n",
        "path = '/content/drive/MyDrive/Arquivos_Neurotech/RS/RS_CONS'\n",
        "BR_CONS = spark.read.csv(path, sep=';', header =True)\n",
        "path = '/content/drive/MyDrive/Arquivos_Neurotech/SC/SC_CONS'\n",
        "BR_CONS = spark.read.csv(path, sep=';', header =True)\n",
        "path = '/content/drive/MyDrive/Arquivos_Neurotech/SE/SE_CONS'\n",
        "BR_CONS = spark.read.csv(path, sep=';', header =True)\n",
        "path = '/content/drive/MyDrive/Arquivos_Neurotech/SP/SP_CONS'\n",
        "BR_CONS = spark.read.csv(path, sep=';', header =True)\n",
        "path = '/content/drive/MyDrive/Arquivos_Neurotech/TO/TO_CONS'\n",
        "BR_CONS = spark.read.csv(path, sep=';', header =True)"
      ],
      "metadata": {
        "id": "QUHRs7wMUBOi"
      },
      "execution_count": null,
      "outputs": []
    },
    {
      "cell_type": "code",
      "source": [
        "BR_CONS.count()"
      ],
      "metadata": {
        "colab": {
          "base_uri": "https://localhost:8080/"
        },
        "id": "PItgdpOb7otW",
        "outputId": "7f75dc36-756c-4fce-f50f-a710a0e9a3a4"
      },
      "execution_count": null,
      "outputs": [
        {
          "output_type": "execute_result",
          "data": {
            "text/plain": [
              "15859"
            ]
          },
          "metadata": {},
          "execution_count": 73
        }
      ]
    },
    {
      "cell_type": "markdown",
      "source": [
        "BR_DET"
      ],
      "metadata": {
        "id": "XRAztSXag5jr"
      }
    },
    {
      "cell_type": "code",
      "source": [
        "path = '/content/drive/MyDrive/Arquivos_Neurotech/AC/AC_DET'\n",
        "BR_DET = spark.read.csv(path, sep=';', header =True)\n",
        "path = '/content/drive/MyDrive/Arquivos_Neurotech/AL/AL_DET'\n",
        "BR_DET = spark.read.csv(path, sep=';', header =True)\n",
        "path = '/content/drive/MyDrive/Arquivos_Neurotech/AM/AM_DET'\n",
        "BR_DET = spark.read.csv(path, sep=';', header =True)\n",
        "path = '/content/drive/MyDrive/Arquivos_Neurotech/AP/AP_DET'\n",
        "BR_DET = spark.read.csv(path, sep=';', header =True)\n",
        "path = '/content/drive/MyDrive/Arquivos_Neurotech/BA/BA_DET'\n",
        "BR_DET = spark.read.csv(path, sep=';', header =True)\n",
        "path = '/content/drive/MyDrive/Arquivos_Neurotech/CE/CE_DET'\n",
        "BR_DET = spark.read.csv(path, sep=';', header =True)\n",
        "path = '/content/drive/MyDrive/Arquivos_Neurotech/DF/DF_DET'\n",
        "BR_DET = spark.read.csv(path, sep=';', header =True)\n",
        "path = '/content/drive/MyDrive/Arquivos_Neurotech/ES/ES_DET'\n",
        "BR_DET = spark.read.csv(path, sep=';', header =True)\n",
        "path = '/content/drive/MyDrive/Arquivos_Neurotech/GO/GO_DET'\n",
        "BR_DET = spark.read.csv(path, sep=';', header =True)\n",
        "path = '/content/drive/MyDrive/Arquivos_Neurotech/MA/MA_DET'\n",
        "BR_DET = spark.read.csv(path, sep=';', header =True)\n",
        "path = '/content/drive/MyDrive/Arquivos_Neurotech/MG/MG_DET'\n",
        "BR_DET = spark.read.csv(path, sep=';', header =True)\n",
        "path = '/content/drive/MyDrive/Arquivos_Neurotech/MS/MS_DET'\n",
        "BR_DET = spark.read.csv(path, sep=';', header =True)\n",
        "path = '/content/drive/MyDrive/Arquivos_Neurotech/MT/MT_DET'\n",
        "BR_DET = spark.read.csv(path, sep=';', header =True)\n",
        "path = '/content/drive/MyDrive/Arquivos_Neurotech/PA/PA_DET'\n",
        "BR_DET = spark.read.csv(path, sep=';', header =True)\n",
        "path = '/content/drive/MyDrive/Arquivos_Neurotech/PB/PB_DET'\n",
        "BR_DET = spark.read.csv(path, sep=';', header =True)\n",
        "path = '/content/drive/MyDrive/Arquivos_Neurotech/PE/PE_DET'\n",
        "BR_DET = spark.read.csv(path, sep=';', header =True)\n",
        "path = '/content/drive/MyDrive/Arquivos_Neurotech/PI/PI_DET'\n",
        "BR_DET = spark.read.csv(path, sep=';', header =True)\n",
        "path = '/content/drive/MyDrive/Arquivos_Neurotech/PR/PR_DET'\n",
        "BR_DET = spark.read.csv(path, sep=';', header =True)\n",
        "path = '/content/drive/MyDrive/Arquivos_Neurotech/RJ/RJ_DET'\n",
        "BR_DET = spark.read.csv(path, sep=';', header =True)\n",
        "path = '/content/drive/MyDrive/Arquivos_Neurotech/RN/RN_DET'\n",
        "BR_DET = spark.read.csv(path, sep=';', header =True)\n",
        "path = '/content/drive/MyDrive/Arquivos_Neurotech/RO/RO_DET'\n",
        "BR = spark.read.csv(path, sep=';', header =True)\n",
        "path = '/content/drive/MyDrive/Arquivos_Neurotech/RR/RR_DET'\n",
        "BR_DET = spark.read.csv(path, sep=';', header =True)\n",
        "path = '/content/drive/MyDrive/Arquivos_Neurotech/RS/RS_DET'\n",
        "BR_DET = spark.read.csv(path, sep=';', header =True)\n",
        "path = '/content/drive/MyDrive/Arquivos_Neurotech/SC/SC_DET'\n",
        "BR_DET = spark.read.csv(path, sep=';', header =True)\n",
        "path = '/content/drive/MyDrive/Arquivos_Neurotech/SE/SE_DET'\n",
        "BR_DET = spark.read.csv(path, sep=';', header =True)\n",
        "path = '/content/drive/MyDrive/Arquivos_Neurotech/SP/SP_DET'\n",
        "BR_DET = spark.read.csv(path, sep=';', header =True)\n",
        "path = '/content/drive/MyDrive/Arquivos_Neurotech/TO/TO_DET'\n",
        "BR_DET = spark.read.csv(path, sep=';', header =True)"
      ],
      "metadata": {
        "id": "nRIwuSEmWnoq"
      },
      "execution_count": null,
      "outputs": []
    },
    {
      "cell_type": "code",
      "source": [
        "BR_DET.count()"
      ],
      "metadata": {
        "colab": {
          "base_uri": "https://localhost:8080/"
        },
        "id": "w7pjVWeTfWJp",
        "outputId": "f9fb08a5-e4f3-4194-fea2-61a03c206a19"
      },
      "execution_count": null,
      "outputs": [
        {
          "output_type": "execute_result",
          "data": {
            "text/plain": [
              "82625"
            ]
          },
          "metadata": {},
          "execution_count": 75
        }
      ]
    },
    {
      "cell_type": "markdown",
      "source": [
        "# Análise Exploratória"
      ],
      "metadata": {
        "id": "1b72NRvV20Pd"
      }
    },
    {
      "cell_type": "code",
      "source": [
        "BR_CONS.limit(5).toPandas()\n"
      ],
      "metadata": {
        "colab": {
          "base_uri": "https://localhost:8080/",
          "height": 305
        },
        "id": "nSFM6OPM8u1Z",
        "outputId": "7981bbc4-546b-451b-bce2-ce3408f216d0"
      },
      "execution_count": null,
      "outputs": [
        {
          "output_type": "execute_result",
          "data": {
            "text/html": [
              "\n",
              "  <div id=\"df-c38b382f-ca6f-4325-a20e-1bfdd31f8bc8\">\n",
              "    <div class=\"colab-df-container\">\n",
              "      <div>\n",
              "<style scoped>\n",
              "    .dataframe tbody tr th:only-of-type {\n",
              "        vertical-align: middle;\n",
              "    }\n",
              "\n",
              "    .dataframe tbody tr th {\n",
              "        vertical-align: top;\n",
              "    }\n",
              "\n",
              "    .dataframe thead th {\n",
              "        text-align: right;\n",
              "    }\n",
              "</style>\n",
              "<table border=\"1\" class=\"dataframe\">\n",
              "  <thead>\n",
              "    <tr style=\"text-align: right;\">\n",
              "      <th></th>\n",
              "      <th>ID_EVENTO_ATENCAO_SAUDE</th>\n",
              "      <th>ID_PLANO</th>\n",
              "      <th>FAIXA_ETARIA</th>\n",
              "      <th>SEXO</th>\n",
              "      <th>CD_MUNICIPIO_BENEFICIARIO</th>\n",
              "      <th>PORTE</th>\n",
              "      <th>CD_MODALIDADE</th>\n",
              "      <th>NM_MODALIDADE</th>\n",
              "      <th>CD_MUNICIPIO_PRESTADOR</th>\n",
              "      <th>UF_PRESTADOR</th>\n",
              "      <th>TEMPO_DE_PERMANENCIA</th>\n",
              "      <th>ANO_MES_EVENTO</th>\n",
              "      <th>CD_CARATER_ATENDIMENTO</th>\n",
              "      <th>CD_TIPO_INTERNACAO</th>\n",
              "      <th>CD_REGIME_INTERNACAO</th>\n",
              "      <th>CD_MOTIVO_SAIDA</th>\n",
              "      <th>CID_1</th>\n",
              "      <th>CID_2</th>\n",
              "      <th>CID_3</th>\n",
              "      <th>CID_4</th>\n",
              "      <th>QT_DIARIA_ACOMPANHANTE</th>\n",
              "      <th>QT_DIARIA_UTI</th>\n",
              "      <th>IND_ACIDENTE_DOENCA</th>\n",
              "      <th>LG_VALOR_PREESTABELECIDO</th>\n",
              "    </tr>\n",
              "  </thead>\n",
              "  <tbody>\n",
              "    <tr>\n",
              "      <th>0</th>\n",
              "      <td>2930664821</td>\n",
              "      <td>225240</td>\n",
              "      <td>30 a 39</td>\n",
              "      <td>Masculino</td>\n",
              "      <td>170210</td>\n",
              "      <td>PEQUENO</td>\n",
              "      <td>22</td>\n",
              "      <td>Cooperativa Médica</td>\n",
              "      <td>170210</td>\n",
              "      <td>TO</td>\n",
              "      <td>2</td>\n",
              "      <td>2019-10</td>\n",
              "      <td>2</td>\n",
              "      <td>1</td>\n",
              "      <td>1</td>\n",
              "      <td>12</td>\n",
              "      <td>S610</td>\n",
              "      <td>None</td>\n",
              "      <td>None</td>\n",
              "      <td>None</td>\n",
              "      <td>0</td>\n",
              "      <td>0</td>\n",
              "      <td>9</td>\n",
              "      <td>0</td>\n",
              "    </tr>\n",
              "    <tr>\n",
              "      <th>1</th>\n",
              "      <td>2920667396</td>\n",
              "      <td>215334</td>\n",
              "      <td>60 a 69</td>\n",
              "      <td>Feminino</td>\n",
              "      <td>172120</td>\n",
              "      <td>MÉDIO</td>\n",
              "      <td>24</td>\n",
              "      <td>Autogestão</td>\n",
              "      <td>170210</td>\n",
              "      <td>TO</td>\n",
              "      <td>8</td>\n",
              "      <td>2019-10</td>\n",
              "      <td>1</td>\n",
              "      <td>1</td>\n",
              "      <td>1</td>\n",
              "      <td>21</td>\n",
              "      <td>None</td>\n",
              "      <td>None</td>\n",
              "      <td>None</td>\n",
              "      <td>None</td>\n",
              "      <td>0</td>\n",
              "      <td>0</td>\n",
              "      <td>9</td>\n",
              "      <td>0</td>\n",
              "    </tr>\n",
              "    <tr>\n",
              "      <th>2</th>\n",
              "      <td>2987645747</td>\n",
              "      <td>215334</td>\n",
              "      <td>60 a 69</td>\n",
              "      <td>Masculino</td>\n",
              "      <td>172120</td>\n",
              "      <td>MÉDIO</td>\n",
              "      <td>24</td>\n",
              "      <td>Autogestão</td>\n",
              "      <td>170210</td>\n",
              "      <td>TO</td>\n",
              "      <td>3</td>\n",
              "      <td>2019-10</td>\n",
              "      <td>1</td>\n",
              "      <td>1</td>\n",
              "      <td>1</td>\n",
              "      <td>18</td>\n",
              "      <td>None</td>\n",
              "      <td>None</td>\n",
              "      <td>None</td>\n",
              "      <td>None</td>\n",
              "      <td>0</td>\n",
              "      <td>0</td>\n",
              "      <td>9</td>\n",
              "      <td>0</td>\n",
              "    </tr>\n",
              "    <tr>\n",
              "      <th>3</th>\n",
              "      <td>2920667393</td>\n",
              "      <td>215334</td>\n",
              "      <td>60 a 69</td>\n",
              "      <td>Feminino</td>\n",
              "      <td>172120</td>\n",
              "      <td>MÉDIO</td>\n",
              "      <td>24</td>\n",
              "      <td>Autogestão</td>\n",
              "      <td>170210</td>\n",
              "      <td>TO</td>\n",
              "      <td>8</td>\n",
              "      <td>2019-10</td>\n",
              "      <td>1</td>\n",
              "      <td>1</td>\n",
              "      <td>1</td>\n",
              "      <td>21</td>\n",
              "      <td>None</td>\n",
              "      <td>None</td>\n",
              "      <td>None</td>\n",
              "      <td>None</td>\n",
              "      <td>0</td>\n",
              "      <td>0</td>\n",
              "      <td>9</td>\n",
              "      <td>0</td>\n",
              "    </tr>\n",
              "    <tr>\n",
              "      <th>4</th>\n",
              "      <td>2854193497</td>\n",
              "      <td>238364</td>\n",
              "      <td>60 a 69</td>\n",
              "      <td>Feminino</td>\n",
              "      <td>170210</td>\n",
              "      <td>GRANDE</td>\n",
              "      <td>22</td>\n",
              "      <td>Cooperativa Médica</td>\n",
              "      <td>170210</td>\n",
              "      <td>TO</td>\n",
              "      <td>1</td>\n",
              "      <td>2019-10</td>\n",
              "      <td>1</td>\n",
              "      <td>1</td>\n",
              "      <td>1</td>\n",
              "      <td>12</td>\n",
              "      <td>Z853</td>\n",
              "      <td>None</td>\n",
              "      <td>None</td>\n",
              "      <td>None</td>\n",
              "      <td>0</td>\n",
              "      <td>0</td>\n",
              "      <td>9</td>\n",
              "      <td>0</td>\n",
              "    </tr>\n",
              "  </tbody>\n",
              "</table>\n",
              "</div>\n",
              "      <button class=\"colab-df-convert\" onclick=\"convertToInteractive('df-c38b382f-ca6f-4325-a20e-1bfdd31f8bc8')\"\n",
              "              title=\"Convert this dataframe to an interactive table.\"\n",
              "              style=\"display:none;\">\n",
              "        \n",
              "  <svg xmlns=\"http://www.w3.org/2000/svg\" height=\"24px\"viewBox=\"0 0 24 24\"\n",
              "       width=\"24px\">\n",
              "    <path d=\"M0 0h24v24H0V0z\" fill=\"none\"/>\n",
              "    <path d=\"M18.56 5.44l.94 2.06.94-2.06 2.06-.94-2.06-.94-.94-2.06-.94 2.06-2.06.94zm-11 1L8.5 8.5l.94-2.06 2.06-.94-2.06-.94L8.5 2.5l-.94 2.06-2.06.94zm10 10l.94 2.06.94-2.06 2.06-.94-2.06-.94-.94-2.06-.94 2.06-2.06.94z\"/><path d=\"M17.41 7.96l-1.37-1.37c-.4-.4-.92-.59-1.43-.59-.52 0-1.04.2-1.43.59L10.3 9.45l-7.72 7.72c-.78.78-.78 2.05 0 2.83L4 21.41c.39.39.9.59 1.41.59.51 0 1.02-.2 1.41-.59l7.78-7.78 2.81-2.81c.8-.78.8-2.07 0-2.86zM5.41 20L4 18.59l7.72-7.72 1.47 1.35L5.41 20z\"/>\n",
              "  </svg>\n",
              "      </button>\n",
              "      \n",
              "  <style>\n",
              "    .colab-df-container {\n",
              "      display:flex;\n",
              "      flex-wrap:wrap;\n",
              "      gap: 12px;\n",
              "    }\n",
              "\n",
              "    .colab-df-convert {\n",
              "      background-color: #E8F0FE;\n",
              "      border: none;\n",
              "      border-radius: 50%;\n",
              "      cursor: pointer;\n",
              "      display: none;\n",
              "      fill: #1967D2;\n",
              "      height: 32px;\n",
              "      padding: 0 0 0 0;\n",
              "      width: 32px;\n",
              "    }\n",
              "\n",
              "    .colab-df-convert:hover {\n",
              "      background-color: #E2EBFA;\n",
              "      box-shadow: 0px 1px 2px rgba(60, 64, 67, 0.3), 0px 1px 3px 1px rgba(60, 64, 67, 0.15);\n",
              "      fill: #174EA6;\n",
              "    }\n",
              "\n",
              "    [theme=dark] .colab-df-convert {\n",
              "      background-color: #3B4455;\n",
              "      fill: #D2E3FC;\n",
              "    }\n",
              "\n",
              "    [theme=dark] .colab-df-convert:hover {\n",
              "      background-color: #434B5C;\n",
              "      box-shadow: 0px 1px 3px 1px rgba(0, 0, 0, 0.15);\n",
              "      filter: drop-shadow(0px 1px 2px rgba(0, 0, 0, 0.3));\n",
              "      fill: #FFFFFF;\n",
              "    }\n",
              "  </style>\n",
              "\n",
              "      <script>\n",
              "        const buttonEl =\n",
              "          document.querySelector('#df-c38b382f-ca6f-4325-a20e-1bfdd31f8bc8 button.colab-df-convert');\n",
              "        buttonEl.style.display =\n",
              "          google.colab.kernel.accessAllowed ? 'block' : 'none';\n",
              "\n",
              "        async function convertToInteractive(key) {\n",
              "          const element = document.querySelector('#df-c38b382f-ca6f-4325-a20e-1bfdd31f8bc8');\n",
              "          const dataTable =\n",
              "            await google.colab.kernel.invokeFunction('convertToInteractive',\n",
              "                                                     [key], {});\n",
              "          if (!dataTable) return;\n",
              "\n",
              "          const docLinkHtml = 'Like what you see? Visit the ' +\n",
              "            '<a target=\"_blank\" href=https://colab.research.google.com/notebooks/data_table.ipynb>data table notebook</a>'\n",
              "            + ' to learn more about interactive tables.';\n",
              "          element.innerHTML = '';\n",
              "          dataTable['output_type'] = 'display_data';\n",
              "          await google.colab.output.renderOutput(dataTable, element);\n",
              "          const docLink = document.createElement('div');\n",
              "          docLink.innerHTML = docLinkHtml;\n",
              "          element.appendChild(docLink);\n",
              "        }\n",
              "      </script>\n",
              "    </div>\n",
              "  </div>\n",
              "  "
            ],
            "text/plain": [
              "  ID_EVENTO_ATENCAO_SAUDE ID_PLANO  ... IND_ACIDENTE_DOENCA LG_VALOR_PREESTABELECIDO\n",
              "0              2930664821   225240  ...                   9                        0\n",
              "1              2920667396   215334  ...                   9                        0\n",
              "2              2987645747   215334  ...                   9                        0\n",
              "3              2920667393   215334  ...                   9                        0\n",
              "4              2854193497   238364  ...                   9                        0\n",
              "\n",
              "[5 rows x 24 columns]"
            ]
          },
          "metadata": {},
          "execution_count": 76
        }
      ]
    },
    {
      "cell_type": "code",
      "source": [
        "BR_DET.limit(5).toPandas()"
      ],
      "metadata": {
        "colab": {
          "base_uri": "https://localhost:8080/",
          "height": 270
        },
        "id": "eYUSKzX5f02S",
        "outputId": "6c13cc0d-c004-4fff-b82f-f6bf6fb50886"
      },
      "execution_count": null,
      "outputs": [
        {
          "output_type": "execute_result",
          "data": {
            "text/html": [
              "\n",
              "  <div id=\"df-c65d9d7f-9347-44bf-82cb-9a58926f6ff6\">\n",
              "    <div class=\"colab-df-container\">\n",
              "      <div>\n",
              "<style scoped>\n",
              "    .dataframe tbody tr th:only-of-type {\n",
              "        vertical-align: middle;\n",
              "    }\n",
              "\n",
              "    .dataframe tbody tr th {\n",
              "        vertical-align: top;\n",
              "    }\n",
              "\n",
              "    .dataframe thead th {\n",
              "        text-align: right;\n",
              "    }\n",
              "</style>\n",
              "<table border=\"1\" class=\"dataframe\">\n",
              "  <thead>\n",
              "    <tr style=\"text-align: right;\">\n",
              "      <th></th>\n",
              "      <th>ID_EVENTO_ATENCAO_SAUDE</th>\n",
              "      <th>UF_PRESTADOR</th>\n",
              "      <th>TEMPO_DE_PERMANENCIA</th>\n",
              "      <th>ANO_MES_EVENTO</th>\n",
              "      <th>CD_PROCEDIMENTO</th>\n",
              "      <th>CD_TABELA_REFERENCIA</th>\n",
              "      <th>QT_ITEM_EVENTO_INFORMADO</th>\n",
              "      <th>VL_ITEM_EVENTO_INFORMADO</th>\n",
              "      <th>VL_ITEM_PAGO_FORNECEDOR</th>\n",
              "      <th>IND_PACOTE</th>\n",
              "      <th>IND_TABELA_PROPRIA</th>\n",
              "    </tr>\n",
              "  </thead>\n",
              "  <tbody>\n",
              "    <tr>\n",
              "      <th>0</th>\n",
              "      <td>2805733384</td>\n",
              "      <td>TO</td>\n",
              "      <td>2.0</td>\n",
              "      <td>2019-10</td>\n",
              "      <td>31309054</td>\n",
              "      <td>22</td>\n",
              "      <td>1</td>\n",
              "      <td>2389,28</td>\n",
              "      <td>0</td>\n",
              "      <td>0</td>\n",
              "      <td>0</td>\n",
              "    </tr>\n",
              "    <tr>\n",
              "      <th>1</th>\n",
              "      <td>2805733384</td>\n",
              "      <td>TO</td>\n",
              "      <td>2.0</td>\n",
              "      <td>2019-10</td>\n",
              "      <td>40304108</td>\n",
              "      <td>22</td>\n",
              "      <td>1</td>\n",
              "      <td>4,8</td>\n",
              "      <td>0</td>\n",
              "      <td>0</td>\n",
              "      <td>0</td>\n",
              "    </tr>\n",
              "    <tr>\n",
              "      <th>2</th>\n",
              "      <td>2805733384</td>\n",
              "      <td>TO</td>\n",
              "      <td>2.0</td>\n",
              "      <td>2019-10</td>\n",
              "      <td>031</td>\n",
              "      <td>63</td>\n",
              "      <td>17</td>\n",
              "      <td>3375,53</td>\n",
              "      <td>0</td>\n",
              "      <td>0</td>\n",
              "      <td>0</td>\n",
              "    </tr>\n",
              "    <tr>\n",
              "      <th>3</th>\n",
              "      <td>2805733384</td>\n",
              "      <td>TO</td>\n",
              "      <td>2.0</td>\n",
              "      <td>2019-10</td>\n",
              "      <td>40307760</td>\n",
              "      <td>22</td>\n",
              "      <td>1</td>\n",
              "      <td>4,8</td>\n",
              "      <td>0</td>\n",
              "      <td>0</td>\n",
              "      <td>0</td>\n",
              "    </tr>\n",
              "    <tr>\n",
              "      <th>4</th>\n",
              "      <td>2805733384</td>\n",
              "      <td>TO</td>\n",
              "      <td>2.0</td>\n",
              "      <td>2019-10</td>\n",
              "      <td>029</td>\n",
              "      <td>63</td>\n",
              "      <td>158</td>\n",
              "      <td>1010,31</td>\n",
              "      <td>0</td>\n",
              "      <td>0</td>\n",
              "      <td>0</td>\n",
              "    </tr>\n",
              "  </tbody>\n",
              "</table>\n",
              "</div>\n",
              "      <button class=\"colab-df-convert\" onclick=\"convertToInteractive('df-c65d9d7f-9347-44bf-82cb-9a58926f6ff6')\"\n",
              "              title=\"Convert this dataframe to an interactive table.\"\n",
              "              style=\"display:none;\">\n",
              "        \n",
              "  <svg xmlns=\"http://www.w3.org/2000/svg\" height=\"24px\"viewBox=\"0 0 24 24\"\n",
              "       width=\"24px\">\n",
              "    <path d=\"M0 0h24v24H0V0z\" fill=\"none\"/>\n",
              "    <path d=\"M18.56 5.44l.94 2.06.94-2.06 2.06-.94-2.06-.94-.94-2.06-.94 2.06-2.06.94zm-11 1L8.5 8.5l.94-2.06 2.06-.94-2.06-.94L8.5 2.5l-.94 2.06-2.06.94zm10 10l.94 2.06.94-2.06 2.06-.94-2.06-.94-.94-2.06-.94 2.06-2.06.94z\"/><path d=\"M17.41 7.96l-1.37-1.37c-.4-.4-.92-.59-1.43-.59-.52 0-1.04.2-1.43.59L10.3 9.45l-7.72 7.72c-.78.78-.78 2.05 0 2.83L4 21.41c.39.39.9.59 1.41.59.51 0 1.02-.2 1.41-.59l7.78-7.78 2.81-2.81c.8-.78.8-2.07 0-2.86zM5.41 20L4 18.59l7.72-7.72 1.47 1.35L5.41 20z\"/>\n",
              "  </svg>\n",
              "      </button>\n",
              "      \n",
              "  <style>\n",
              "    .colab-df-container {\n",
              "      display:flex;\n",
              "      flex-wrap:wrap;\n",
              "      gap: 12px;\n",
              "    }\n",
              "\n",
              "    .colab-df-convert {\n",
              "      background-color: #E8F0FE;\n",
              "      border: none;\n",
              "      border-radius: 50%;\n",
              "      cursor: pointer;\n",
              "      display: none;\n",
              "      fill: #1967D2;\n",
              "      height: 32px;\n",
              "      padding: 0 0 0 0;\n",
              "      width: 32px;\n",
              "    }\n",
              "\n",
              "    .colab-df-convert:hover {\n",
              "      background-color: #E2EBFA;\n",
              "      box-shadow: 0px 1px 2px rgba(60, 64, 67, 0.3), 0px 1px 3px 1px rgba(60, 64, 67, 0.15);\n",
              "      fill: #174EA6;\n",
              "    }\n",
              "\n",
              "    [theme=dark] .colab-df-convert {\n",
              "      background-color: #3B4455;\n",
              "      fill: #D2E3FC;\n",
              "    }\n",
              "\n",
              "    [theme=dark] .colab-df-convert:hover {\n",
              "      background-color: #434B5C;\n",
              "      box-shadow: 0px 1px 3px 1px rgba(0, 0, 0, 0.15);\n",
              "      filter: drop-shadow(0px 1px 2px rgba(0, 0, 0, 0.3));\n",
              "      fill: #FFFFFF;\n",
              "    }\n",
              "  </style>\n",
              "\n",
              "      <script>\n",
              "        const buttonEl =\n",
              "          document.querySelector('#df-c65d9d7f-9347-44bf-82cb-9a58926f6ff6 button.colab-df-convert');\n",
              "        buttonEl.style.display =\n",
              "          google.colab.kernel.accessAllowed ? 'block' : 'none';\n",
              "\n",
              "        async function convertToInteractive(key) {\n",
              "          const element = document.querySelector('#df-c65d9d7f-9347-44bf-82cb-9a58926f6ff6');\n",
              "          const dataTable =\n",
              "            await google.colab.kernel.invokeFunction('convertToInteractive',\n",
              "                                                     [key], {});\n",
              "          if (!dataTable) return;\n",
              "\n",
              "          const docLinkHtml = 'Like what you see? Visit the ' +\n",
              "            '<a target=\"_blank\" href=https://colab.research.google.com/notebooks/data_table.ipynb>data table notebook</a>'\n",
              "            + ' to learn more about interactive tables.';\n",
              "          element.innerHTML = '';\n",
              "          dataTable['output_type'] = 'display_data';\n",
              "          await google.colab.output.renderOutput(dataTable, element);\n",
              "          const docLink = document.createElement('div');\n",
              "          docLink.innerHTML = docLinkHtml;\n",
              "          element.appendChild(docLink);\n",
              "        }\n",
              "      </script>\n",
              "    </div>\n",
              "  </div>\n",
              "  "
            ],
            "text/plain": [
              "  ID_EVENTO_ATENCAO_SAUDE UF_PRESTADOR  ... IND_PACOTE IND_TABELA_PROPRIA\n",
              "0              2805733384           TO  ...          0                  0\n",
              "1              2805733384           TO  ...          0                  0\n",
              "2              2805733384           TO  ...          0                  0\n",
              "3              2805733384           TO  ...          0                  0\n",
              "4              2805733384           TO  ...          0                  0\n",
              "\n",
              "[5 rows x 11 columns]"
            ]
          },
          "metadata": {},
          "execution_count": 77
        }
      ]
    },
    {
      "cell_type": "code",
      "source": [
        "BR_DET.describe (). show () "
      ],
      "metadata": {
        "colab": {
          "base_uri": "https://localhost:8080/"
        },
        "id": "7rUKkvFzpWLR",
        "outputId": "8b3df550-95bd-48a9-b016-802d494dd304"
      },
      "execution_count": null,
      "outputs": [
        {
          "output_type": "stream",
          "name": "stdout",
          "text": [
            "+-------+-----------------------+------------+--------------------+--------------+--------------------+--------------------+------------------------+------------------------+-----------------------+--------------------+-------------------+\n",
            "|summary|ID_EVENTO_ATENCAO_SAUDE|UF_PRESTADOR|TEMPO_DE_PERMANENCIA|ANO_MES_EVENTO|     CD_PROCEDIMENTO|CD_TABELA_REFERENCIA|QT_ITEM_EVENTO_INFORMADO|VL_ITEM_EVENTO_INFORMADO|VL_ITEM_PAGO_FORNECEDOR|          IND_PACOTE| IND_TABELA_PROPRIA|\n",
            "+-------+-----------------------+------------+--------------------+--------------+--------------------+--------------------+------------------------+------------------------+-----------------------+--------------------+-------------------+\n",
            "|  count|                  82625|       82625|               82598|         82625|               82625|               82625|                   82598|                   82598|                  82598|               82625|              82625|\n",
            "|   mean|   2.8533680356356792E9|        null|    3.93411462747282|          null|1.3217169673107022E7|  42.056411497730714|        63.9355223880597|       790.9981014842941|      37.50256261131911|0.002033282904689864|0.07980635400907715|\n",
            "| stddev|    3.161103319077531E8|        null|   9.376665448431554|          null|2.6282978641686577E7|    23.1394931936844|       371.5141985863466|       6757.475562878998|      890.6642244593053|  0.0450463452918003|0.27099481301683886|\n",
            "|    min|             2247478395|          TO|                -1.0|       2019-01|                 001|                  00|                     ,15|                     ,01|                      0|                   0|                  0|\n",
            "|    max|             3683007211|          TO|                96.0|       2019-12|      TABELA PRÓPRIA|                  98|                999,9999|                 9997,75|                    987|                   1|                  1|\n",
            "+-------+-----------------------+------------+--------------------+--------------+--------------------+--------------------+------------------------+------------------------+-----------------------+--------------------+-------------------+\n",
            "\n"
          ]
        }
      ]
    },
    {
      "cell_type": "code",
      "source": [
        "BR_CONS.printSchema()"
      ],
      "metadata": {
        "colab": {
          "base_uri": "https://localhost:8080/"
        },
        "id": "tbE1QYEgjf1n",
        "outputId": "63572214-bb57-4429-c49d-5118108c8ac7"
      },
      "execution_count": null,
      "outputs": [
        {
          "output_type": "stream",
          "name": "stdout",
          "text": [
            "root\n",
            " |-- ID_EVENTO_ATENCAO_SAUDE: string (nullable = true)\n",
            " |-- ID_PLANO: string (nullable = true)\n",
            " |-- FAIXA_ETARIA: string (nullable = true)\n",
            " |-- SEXO: string (nullable = true)\n",
            " |-- CD_MUNICIPIO_BENEFICIARIO: string (nullable = true)\n",
            " |-- PORTE: string (nullable = true)\n",
            " |-- CD_MODALIDADE: string (nullable = true)\n",
            " |-- NM_MODALIDADE: string (nullable = true)\n",
            " |-- CD_MUNICIPIO_PRESTADOR: string (nullable = true)\n",
            " |-- UF_PRESTADOR: string (nullable = true)\n",
            " |-- TEMPO_DE_PERMANENCIA: string (nullable = true)\n",
            " |-- ANO_MES_EVENTO: string (nullable = true)\n",
            " |-- CD_CARATER_ATENDIMENTO: string (nullable = true)\n",
            " |-- CD_TIPO_INTERNACAO: string (nullable = true)\n",
            " |-- CD_REGIME_INTERNACAO: string (nullable = true)\n",
            " |-- CD_MOTIVO_SAIDA: string (nullable = true)\n",
            " |-- CID_1: string (nullable = true)\n",
            " |-- CID_2: string (nullable = true)\n",
            " |-- CID_3: string (nullable = true)\n",
            " |-- CID_4: string (nullable = true)\n",
            " |-- QT_DIARIA_ACOMPANHANTE: string (nullable = true)\n",
            " |-- QT_DIARIA_UTI: string (nullable = true)\n",
            " |-- IND_ACIDENTE_DOENCA: string (nullable = true)\n",
            " |-- LG_VALOR_PREESTABELECIDO: string (nullable = true)\n",
            "\n"
          ]
        }
      ]
    },
    {
      "cell_type": "code",
      "source": [
        "BR_DET.printSchema()"
      ],
      "metadata": {
        "colab": {
          "base_uri": "https://localhost:8080/"
        },
        "id": "XLaa7FP8j3ym",
        "outputId": "3ff034a5-0cce-4611-f80f-f9d34c782164"
      },
      "execution_count": null,
      "outputs": [
        {
          "output_type": "stream",
          "name": "stdout",
          "text": [
            "root\n",
            " |-- ID_EVENTO_ATENCAO_SAUDE: string (nullable = true)\n",
            " |-- UF_PRESTADOR: string (nullable = true)\n",
            " |-- TEMPO_DE_PERMANENCIA: string (nullable = true)\n",
            " |-- ANO_MES_EVENTO: string (nullable = true)\n",
            " |-- CD_PROCEDIMENTO: string (nullable = true)\n",
            " |-- CD_TABELA_REFERENCIA: string (nullable = true)\n",
            " |-- QT_ITEM_EVENTO_INFORMADO: string (nullable = true)\n",
            " |-- VL_ITEM_EVENTO_INFORMADO: string (nullable = true)\n",
            " |-- VL_ITEM_PAGO_FORNECEDOR: string (nullable = true)\n",
            " |-- IND_PACOTE: string (nullable = true)\n",
            " |-- IND_TABELA_PROPRIA: string (nullable = true)\n",
            "\n"
          ]
        }
      ]
    },
    {
      "cell_type": "code",
      "source": [
        "from pyspark.sql.types import DoubleType, StringType, IntegerType\n",
        "from pyspark.sql import functions as f"
      ],
      "metadata": {
        "id": "lX_kDDDfI89S"
      },
      "execution_count": null,
      "outputs": []
    },
    {
      "cell_type": "code",
      "source": [
        "BR_CONS = BR_CONS \\\n",
        "   .withColumn(\"ID_EVENTO_ATENCAO_SAUDE\" ,\n",
        "               BR_CONS[\"ID_EVENTO_ATENCAO_SAUDE\"]\n",
        "               .cast(IntegerType()))   \\\n",
        "   .withColumn(\"ID_PLANO\",\n",
        "               BR_CONS[\"ID_PLANO\"]\n",
        "               .cast(IntegerType()))    \\\n",
        "   .withColumn(\"CD_MUNICIPIO_BENEFICIARIO\"  ,\n",
        "               BR_CONS[\"CD_MUNICIPIO_BENEFICIARIO\"]\n",
        "               .cast(IntegerType())) \\\n",
        "  .withColumn(\"CD_MODALIDADE\",\n",
        "              BR_CONS[\"CD_MODALIDADE\"]\n",
        "              .cast(IntegerType()))    \\\n",
        "  .withColumn(\"CD_MUNICIPIO_PRESTADOR\"  ,\n",
        "              BR_CONS[\"CD_MUNICIPIO_PRESTADOR\"]\n",
        "              .cast(IntegerType())) \\\n",
        "  .withColumn(\"QT_DIARIA_ACOMPANHANTE\",\n",
        "              BR_CONS[\"QT_DIARIA_ACOMPANHANTE\"]\n",
        "              .cast(IntegerType()))    \\\n",
        "  .withColumn(\"TEMPO_DE_PERMANENCIA\"  ,\n",
        "              BR_CONS[\"TEMPO_DE_PERMANENCIA\"]\n",
        "              .cast(IntegerType())) \\\n",
        "  .withColumn(\"CD_CARATER_ATENDIMENTO\"  ,\n",
        "              BR_CONS[\"CD_CARATER_ATENDIMENTO\"]\n",
        "              .cast(IntegerType())) \\\n",
        "  .withColumn(\"CD_TIPO_INTERNACAO\",\n",
        "              BR_CONS[\"CD_TIPO_INTERNACAO\"]\n",
        "              .cast(IntegerType()))    \\\n",
        "  .withColumn(\"CD_REGIME_INTERNACAO\"  ,\n",
        "              BR_CONS[\"CD_REGIME_INTERNACAO\"]\n",
        "              .cast(IntegerType())) \\\n",
        "  .withColumn(\"CD_MOTIVO_SAIDA\",\n",
        "              BR_CONS[\"CD_MOTIVO_SAIDA\"]\n",
        "              .cast(IntegerType()))    \\\n",
        " "
      ],
      "metadata": {
        "id": "_Q56oZzf44P6"
      },
      "execution_count": null,
      "outputs": []
    },
    {
      "cell_type": "code",
      "source": [
        "BR_CONS = BR_CONS \\\n",
        "  .withColumn(\"QT_DIARIA_ACOMPANHANTE\",\n",
        "              BR_CONS[\"QT_DIARIA_ACOMPANHANTE\"]\n",
        "              .cast(IntegerType()))    \\\n",
        "  .withColumn(\"QT_DIARIA_UTI\"  ,\n",
        "              BR_CONS[\"QT_DIARIA_UTI\"]\n",
        "              .cast(IntegerType())) \\\n",
        "  .withColumn(\"IND_ACIDENTE_DOENCA\"  ,\n",
        "              BR_CONS[\"IND_ACIDENTE_DOENCA\"]\n",
        "              .cast(IntegerType())) \\\n",
        "  .withColumn(\"LG_VALOR_PREESTABELECIDO\"  ,\n",
        "              BR_CONS[\"LG_VALOR_PREESTABELECIDO\"]\n",
        "              .cast(IntegerType())) \\"
      ],
      "metadata": {
        "id": "Yfzf88oCqVJr"
      },
      "execution_count": null,
      "outputs": []
    },
    {
      "cell_type": "code",
      "source": [
        ""
      ],
      "metadata": {
        "id": "VOr3DVSwqRTC"
      },
      "execution_count": null,
      "outputs": []
    },
    {
      "cell_type": "code",
      "source": [
        "from pyspark.ml.feature import StringIndexer\n",
        "\n",
        "indexer = StringIndexer(inputCol=\"FAIXA_ETARIA\", outputCol=\"FAIXA_DE_IDADE\")\n",
        "                       #(inputCol=\"SEXO\", outputCol=\"GENERO\")\n",
        "                      # (inputCol=\"PORTE\", outputCol=\"TAMANHO_EMPRESA\")\n",
        "indexed = indexer.fit(BR_CONS).transform(BR_CONS)"
      ],
      "metadata": {
        "id": "98NHSgOd9ejr"
      },
      "execution_count": null,
      "outputs": []
    },
    {
      "cell_type": "code",
      "source": [
        "indexer = StringIndexer(inputCol=\"SEXO\", outputCol=\"GENERO\")\n",
        "                      \n",
        "indexed = indexer.fit(BR_CONS).transform(BR_CONS)"
      ],
      "metadata": {
        "id": "EFatsJRvtNG7"
      },
      "execution_count": null,
      "outputs": []
    },
    {
      "cell_type": "code",
      "source": [
        "indexer = StringIndexer(inputCol=\"PORTE\", outputCol=\"TAMANHO_EMPRESA\")\n",
        "indexed = indexer.fit(BR_CONS).transform(BR_CONS)"
      ],
      "metadata": {
        "id": "-xTT3J44sZRb"
      },
      "execution_count": null,
      "outputs": []
    },
    {
      "cell_type": "code",
      "source": [
        "indexed.show()\n"
      ],
      "metadata": {
        "colab": {
          "base_uri": "https://localhost:8080/"
        },
        "id": "RvK_UAIvA63K",
        "outputId": "73b41bff-239c-4a5b-855a-36fd028588a3"
      },
      "execution_count": null,
      "outputs": [
        {
          "output_type": "stream",
          "name": "stdout",
          "text": [
            "+-----------------------+--------+----------------+---------+-------------------------+-------+-------------+--------------------+----------------------+------------+--------------------+--------------+----------------------+------------------+--------------------+---------------+-----+-----+-----+-----+----------------------+-------------+-------------------+------------------------+---------------+\n",
            "|ID_EVENTO_ATENCAO_SAUDE|ID_PLANO|    FAIXA_ETARIA|     SEXO|CD_MUNICIPIO_BENEFICIARIO|  PORTE|CD_MODALIDADE|       NM_MODALIDADE|CD_MUNICIPIO_PRESTADOR|UF_PRESTADOR|TEMPO_DE_PERMANENCIA|ANO_MES_EVENTO|CD_CARATER_ATENDIMENTO|CD_TIPO_INTERNACAO|CD_REGIME_INTERNACAO|CD_MOTIVO_SAIDA|CID_1|CID_2|CID_3|CID_4|QT_DIARIA_ACOMPANHANTE|QT_DIARIA_UTI|IND_ACIDENTE_DOENCA|LG_VALOR_PREESTABELECIDO|TAMANHO_EMPRESA|\n",
            "+-----------------------+--------+----------------+---------+-------------------------+-------+-------------+--------------------+----------------------+------------+--------------------+--------------+----------------------+------------------+--------------------+---------------+-----+-----+-----+-----+----------------------+-------------+-------------------+------------------------+---------------+\n",
            "|             2147483647|  225240|         30 a 39|Masculino|                   170210|PEQUENO|           22|  Cooperativa Médica|                170210|          TO|                   2|       2019-10|                     2|                 1|                   1|             12| S610| null| null| null|                     0|            0|                  9|                       0|            2.0|\n",
            "|             2147483647|  215334|         60 a 69| Feminino|                   172120|  MÉDIO|           24|          Autogestão|                170210|          TO|                   8|       2019-10|                     1|                 1|                   1|             21| null| null| null| null|                     0|            0|                  9|                       0|            0.0|\n",
            "|             2147483647|  215334|         60 a 69|Masculino|                   172120|  MÉDIO|           24|          Autogestão|                170210|          TO|                   3|       2019-10|                     1|                 1|                   1|             18| null| null| null| null|                     0|            0|                  9|                       0|            0.0|\n",
            "|             2147483647|  215334|         60 a 69| Feminino|                   172120|  MÉDIO|           24|          Autogestão|                170210|          TO|                   8|       2019-10|                     1|                 1|                   1|             21| null| null| null| null|                     0|            0|                  9|                       0|            0.0|\n",
            "|             2147483647|  238364|         60 a 69| Feminino|                   170210| GRANDE|           22|  Cooperativa Médica|                170210|          TO|                   1|       2019-10|                     1|                 1|                   1|             12| Z853| null| null| null|                     0|            0|                  9|                       0|            1.0|\n",
            "|             2147483647|  215334|         60 a 69|Masculino|                   172120|  MÉDIO|           24|          Autogestão|                170210|          TO|                  29|       2019-10|                     1|                 1|                   1|             21| null| null| null| null|                     0|            0|                  9|                       0|            0.0|\n",
            "|             2147483647|  215191|Não identificado|     null|                     null|  MÉDIO|           24|          Autogestão|                170210|          TO|                   5|       2019-10|                     1|                 1|                   1|             21| null| null| null| null|                     0|            0|                  9|                       0|            0.0|\n",
            "|             2147483647|  225236|         40 a 49| Feminino|                   170210|PEQUENO|           22|  Cooperativa Médica|                170210|          TO|                   1|       2019-10|                     1|                 2|                   1|             12| I844| null| null| null|                     0|            0|                  9|                       0|            2.0|\n",
            "|             2147483647|  235081|         30 a 39|Masculino|                   172120| GRANDE|           28|Seguradora Especi...|                170210|          TO|                   1|       2019-10|                     1|                 2|                   1|             12| K801| null| null| null|                     0|            0|                  9|                       0|            1.0|\n",
            "|             2147483647|  215334|         60 a 69|Masculino|                   172120|  MÉDIO|           24|          Autogestão|                170210|          TO|                  29|       2019-10|                     1|                 1|                   1|             21| null| null| null| null|                     0|            0|                  9|                       0|            0.0|\n",
            "|             2147483647|  215334|         60 a 69|Masculino|                   172120|  MÉDIO|           24|          Autogestão|                170210|          TO|                   3|       2019-10|                     1|                 1|                   1|             18| null| null| null| null|                     0|            0|                  9|                       0|            0.0|\n",
            "|             2147483647|  170517|         20 a 29| Feminino|                   170210|PEQUENO|           22|  Cooperativa Médica|                170210|          TO|                   2|       2019-10|                     1|                 3|                   1|             61| O689| null| null| null|                     0|            0|                  9|                       0|            2.0|\n",
            "|             2147483647|  215334|         60 a 69|Masculino|                   172120|  MÉDIO|           24|          Autogestão|                170210|          TO|                  29|       2019-10|                     1|                 1|                   1|             21| null| null| null| null|                     0|            0|                  9|                       0|            0.0|\n",
            "|             2147483647|  215334|         60 a 69|Masculino|                   172120|  MÉDIO|           24|          Autogestão|                170210|          TO|                   3|       2019-10|                     1|                 1|                   1|             18| null| null| null| null|                     0|            0|                  9|                       0|            0.0|\n",
            "|             2147483647|  227415|         30 a 39| Feminino|                   172100|  MÉDIO|           22|  Cooperativa Médica|                170210|          TO|                   3|       2019-10|                     2|                 1|                   1|             11| M463| null| null| null|                     0|            0|                  9|                       0|            0.0|\n",
            "|             2147483647|  225240|         40 a 49|Masculino|                   170210|PEQUENO|           22|  Cooperativa Médica|                170210|          TO|                   1|       2019-10|                     2|                 2|                   1|             12| null| null| null| null|                     0|            0|                  9|                       0|            2.0|\n",
            "|             2147483647|  234587|           1 a 4|Masculino|                   330455|PEQUENO|           22|  Cooperativa Médica|                170210|          TO|                   1|       2019-10|                     2|                 4|                   1|             12|  A09| null| null| null|                     0|            0|                  9|                       0|            2.0|\n",
            "|             2147483647|  238364|           1 a 4|Masculino|                   520870| GRANDE|           22|  Cooperativa Médica|                170210|          TO|                   1|       2019-10|                     1|                 1|                   1|             12|  J46| null| null| null|                     0|            0|                  9|                       0|            1.0|\n",
            "|             2147483647|  175087|         50 a 59| Feminino|                   170210|PEQUENO|           22|  Cooperativa Médica|                170210|          TO|                   2|       2019-10|                     1|                 2|                   1|             12| null| null| null| null|                     0|            0|                  9|                       0|            2.0|\n",
            "|             2147483647|  225254|           1 a 4| Feminino|                   170210|PEQUENO|           22|  Cooperativa Médica|                170210|          TO|                   1|       2019-10|                     2|                 4|                   1|             12| null| null| null| null|                     1|            0|                  9|                       0|            2.0|\n",
            "+-----------------------+--------+----------------+---------+-------------------------+-------+-------------+--------------------+----------------------+------------+--------------------+--------------+----------------------+------------------+--------------------+---------------+-----+-----+-----+-----+----------------------+-------------+-------------------+------------------------+---------------+\n",
            "only showing top 20 rows\n",
            "\n"
          ]
        }
      ]
    },
    {
      "cell_type": "code",
      "source": [
        "BR_DET = BR_DET \\\n",
        "  .withColumn(\"TEMPO_DE_PERMANENCIA\" ,\n",
        "              BR_DET[\"TEMPO_DE_PERMANENCIA\"]\n",
        "              .cast(IntegerType()))   \\\n",
        "  .withColumn(\"QT_ITEM_EVENTO_INFORMADO\",\n",
        "              BR_DET[\"QT_ITEM_EVENTO_INFORMADO\"]\n",
        "              .cast(IntegerType()))    \\\n",
        "  .withColumn(\"VL_ITEM_EVENTO_INFORMADO\"  ,\n",
        "              BR_DET[\"VL_ITEM_EVENTO_INFORMADO\"]\n",
        "              .cast(FloatType())) \\\n",
        "  .withColumn(\"VL_ITEM_PAGO_FORNECEDOR\"  ,\n",
        "              BR_DET[\"VL_ITEM_PAGO_FORNECEDOR\"]\n",
        "              .cast(FloatType())) \\\n"
      ],
      "metadata": {
        "id": "7_lFkkizqtGi"
      },
      "execution_count": null,
      "outputs": []
    },
    {
      "cell_type": "code",
      "source": [
        "BR_CONS.printSchema()"
      ],
      "metadata": {
        "colab": {
          "base_uri": "https://localhost:8080/"
        },
        "id": "wbE487zQgLUV",
        "outputId": "8016456f-e4f7-46e6-dd95-042b58de3a8c"
      },
      "execution_count": null,
      "outputs": [
        {
          "output_type": "stream",
          "name": "stdout",
          "text": [
            "root\n",
            " |-- ID_EVENTO_ATENCAO_SAUDE: integer (nullable = true)\n",
            " |-- ID_PLANO: integer (nullable = true)\n",
            " |-- FAIXA_ETARIA: string (nullable = true)\n",
            " |-- SEXO: string (nullable = true)\n",
            " |-- CD_MUNICIPIO_BENEFICIARIO: integer (nullable = true)\n",
            " |-- PORTE: string (nullable = true)\n",
            " |-- CD_MODALIDADE: integer (nullable = true)\n",
            " |-- NM_MODALIDADE: string (nullable = true)\n",
            " |-- CD_MUNICIPIO_PRESTADOR: integer (nullable = true)\n",
            " |-- UF_PRESTADOR: string (nullable = true)\n",
            " |-- TEMPO_DE_PERMANENCIA: integer (nullable = true)\n",
            " |-- ANO_MES_EVENTO: string (nullable = true)\n",
            " |-- CD_CARATER_ATENDIMENTO: integer (nullable = true)\n",
            " |-- CD_TIPO_INTERNACAO: integer (nullable = true)\n",
            " |-- CD_REGIME_INTERNACAO: integer (nullable = true)\n",
            " |-- CD_MOTIVO_SAIDA: integer (nullable = true)\n",
            " |-- CID_1: string (nullable = true)\n",
            " |-- CID_2: string (nullable = true)\n",
            " |-- CID_3: string (nullable = true)\n",
            " |-- CID_4: string (nullable = true)\n",
            " |-- QT_DIARIA_ACOMPANHANTE: integer (nullable = true)\n",
            " |-- QT_DIARIA_UTI: integer (nullable = true)\n",
            " |-- IND_ACIDENTE_DOENCA: integer (nullable = true)\n",
            " |-- LG_VALOR_PREESTABELECIDO: integer (nullable = true)\n",
            "\n"
          ]
        }
      ]
    },
    {
      "cell_type": "code",
      "source": [
        "BR_DET.printSchema()"
      ],
      "metadata": {
        "colab": {
          "base_uri": "https://localhost:8080/"
        },
        "id": "1pb4ds3Qt-_r",
        "outputId": "a827cc78-a97b-4ed5-be53-30e2ff34096a"
      },
      "execution_count": null,
      "outputs": [
        {
          "output_type": "stream",
          "name": "stdout",
          "text": [
            "root\n",
            " |-- ID_EVENTO_ATENCAO_SAUDE: string (nullable = true)\n",
            " |-- UF_PRESTADOR: string (nullable = true)\n",
            " |-- TEMPO_DE_PERMANENCIA: integer (nullable = true)\n",
            " |-- ANO_MES_EVENTO: string (nullable = true)\n",
            " |-- CD_PROCEDIMENTO: string (nullable = true)\n",
            " |-- CD_TABELA_REFERENCIA: string (nullable = true)\n",
            " |-- QT_ITEM_EVENTO_INFORMADO: integer (nullable = true)\n",
            " |-- VL_ITEM_EVENTO_INFORMADO: float (nullable = true)\n",
            " |-- VL_ITEM_PAGO_FORNECEDOR: float (nullable = true)\n",
            " |-- IND_PACOTE: string (nullable = true)\n",
            " |-- IND_TABELA_PROPRIA: string (nullable = true)\n",
            "\n"
          ]
        }
      ]
    },
    {
      "cell_type": "code",
      "source": [
        "BR_CONS.describe ('TEMPO_DE_PERMANENCIA', 'QT_DIARIA_ACOMPANHANTE', 'QT_DIARIA_UTI' ). show () "
      ],
      "metadata": {
        "colab": {
          "base_uri": "https://localhost:8080/"
        },
        "id": "RZ3EndxrotDB",
        "outputId": "62faa944-0411-4783-db4c-59ff6090a859"
      },
      "execution_count": null,
      "outputs": [
        {
          "output_type": "stream",
          "name": "stdout",
          "text": [
            "+-------+--------------------+----------------------+-------------------+\n",
            "|summary|TEMPO_DE_PERMANENCIA|QT_DIARIA_ACOMPANHANTE|      QT_DIARIA_UTI|\n",
            "+-------+--------------------+----------------------+-------------------+\n",
            "|  count|               15859|                 15859|              15859|\n",
            "|   mean|   3.699224415158585|   0.09931269310801438|0.07100069361245981|\n",
            "| stddev|  11.497139478910507|    1.1723305171709915|  1.060297540883908|\n",
            "|    min|                  -1|                     0|                  0|\n",
            "|    max|                 699|                   107|                 54|\n",
            "+-------+--------------------+----------------------+-------------------+\n",
            "\n"
          ]
        }
      ]
    },
    {
      "cell_type": "code",
      "source": [
        "BR_DET.describe ('TEMPO_DE_PERMANENCIA', 'QT_ITEM_EVENTO_INFORMADO', 'VL_ITEM_EVENTO_INFORMADO', 'VL_ITEM_PAGO_FORNECEDOR' ). show () "
      ],
      "metadata": {
        "colab": {
          "base_uri": "https://localhost:8080/"
        },
        "id": "6HgWz1MgtQor",
        "outputId": "5fd70970-af4e-449f-cd81-78ca48023e9d"
      },
      "execution_count": null,
      "outputs": [
        {
          "output_type": "stream",
          "name": "stdout",
          "text": [
            "+-------+--------------------+------------------------+------------------------+-----------------------+\n",
            "|summary|TEMPO_DE_PERMANENCIA|QT_ITEM_EVENTO_INFORMADO|VL_ITEM_EVENTO_INFORMADO|VL_ITEM_PAGO_FORNECEDOR|\n",
            "+-------+--------------------+------------------------+------------------------+-----------------------+\n",
            "|  count|               82598|                   82075|                    5794|                  82533|\n",
            "|   mean|    3.93411462747282|        63.9355223880597|       790.9981014842941|      37.50256261131911|\n",
            "| stddev|   9.376665448431554|       371.5141985863466|       6757.475562878998|      890.6642244593053|\n",
            "|    min|                  -1|                       1|                     0.0|                    0.0|\n",
            "|    max|                 577|                   33049|                482825.0|                86582.0|\n",
            "+-------+--------------------+------------------------+------------------------+-----------------------+\n",
            "\n"
          ]
        }
      ]
    },
    {
      "cell_type": "code",
      "source": [
        "BR_CONS.select([f.count(f.when(f.isnull(c), 1)).alias(c) for c in BR_CONS.columns]).show()"
      ],
      "metadata": {
        "colab": {
          "base_uri": "https://localhost:8080/"
        },
        "id": "6nfLvFkRGEAY",
        "outputId": "b6372e41-bc44-4c5b-ed81-4634b3c93517"
      },
      "execution_count": null,
      "outputs": [
        {
          "output_type": "stream",
          "name": "stdout",
          "text": [
            "+-----------------------+--------+------------+----+-------------------------+-----+-------------+-------------+----------------------+------------+--------------------+--------------+----------------------+------------------+--------------------+---------------+-----+-----+-----+-----+----------------------+-------------+-------------------+------------------------+\n",
            "|ID_EVENTO_ATENCAO_SAUDE|ID_PLANO|FAIXA_ETARIA|SEXO|CD_MUNICIPIO_BENEFICIARIO|PORTE|CD_MODALIDADE|NM_MODALIDADE|CD_MUNICIPIO_PRESTADOR|UF_PRESTADOR|TEMPO_DE_PERMANENCIA|ANO_MES_EVENTO|CD_CARATER_ATENDIMENTO|CD_TIPO_INTERNACAO|CD_REGIME_INTERNACAO|CD_MOTIVO_SAIDA|CID_1|CID_2|CID_3|CID_4|QT_DIARIA_ACOMPANHANTE|QT_DIARIA_UTI|IND_ACIDENTE_DOENCA|LG_VALOR_PREESTABELECIDO|\n",
            "+-----------------------+--------+------------+----+-------------------------+-----+-------------+-------------+----------------------+------------+--------------------+--------------+----------------------+------------------+--------------------+---------------+-----+-----+-----+-----+----------------------+-------------+-------------------+------------------------+\n",
            "|                      0|       0|           0| 264|                      267|    0|            0|            0|                    26|           0|                   0|             0|                     1|                 0|                  89|              4| 7413|15857|15859|15859|                     0|            0|                358|                       0|\n",
            "+-----------------------+--------+------------+----+-------------------------+-----+-------------+-------------+----------------------+------------+--------------------+--------------+----------------------+------------------+--------------------+---------------+-----+-----+-----+-----+----------------------+-------------+-------------------+------------------------+\n",
            "\n"
          ]
        }
      ]
    },
    {
      "cell_type": "code",
      "source": [
        "BR_DET.select([f.count(f.when(f.isnull(c), 1)).alias(c) for c in BR_DET.columns]).show()"
      ],
      "metadata": {
        "colab": {
          "base_uri": "https://localhost:8080/"
        },
        "id": "JfCXb0yYLgMK",
        "outputId": "086d8b2e-a6e4-478c-b51e-a0af7e5ff9cf"
      },
      "execution_count": null,
      "outputs": [
        {
          "output_type": "stream",
          "name": "stdout",
          "text": [
            "+-----------------------+------------+--------------------+--------------+---------------+--------------------+------------------------+------------------------+-----------------------+----------+------------------+\n",
            "|ID_EVENTO_ATENCAO_SAUDE|UF_PRESTADOR|TEMPO_DE_PERMANENCIA|ANO_MES_EVENTO|CD_PROCEDIMENTO|CD_TABELA_REFERENCIA|QT_ITEM_EVENTO_INFORMADO|VL_ITEM_EVENTO_INFORMADO|VL_ITEM_PAGO_FORNECEDOR|IND_PACOTE|IND_TABELA_PROPRIA|\n",
            "+-----------------------+------------+--------------------+--------------+---------------+--------------------+------------------------+------------------------+-----------------------+----------+------------------+\n",
            "|                      0|           0|                  27|             0|              0|                   0|                     550|                   76831|                     92|         0|                 0|\n",
            "+-----------------------+------------+--------------------+--------------+---------------+--------------------+------------------------+------------------------+-----------------------+----------+------------------+\n",
            "\n"
          ]
        }
      ]
    },
    {
      "cell_type": "code",
      "source": [
        "BR_CONS=BR_CONS.drop(*('CID_1',\n",
        "                       'CID_2',\n",
        "                       'CID_3',\n",
        "                       'CID_4',))\n",
        "BR_CONS.show()\n"
      ],
      "metadata": {
        "colab": {
          "base_uri": "https://localhost:8080/"
        },
        "id": "IfCzXpjoL9Ac",
        "outputId": "cda94aea-fc60-48a6-b35c-59a7a32cfac6"
      },
      "execution_count": null,
      "outputs": [
        {
          "output_type": "stream",
          "name": "stdout",
          "text": [
            "+-----------------------+--------+----------------+---------+-------------------------+-------+-------------+--------------------+----------------------+------------+--------------------+--------------+----------------------+------------------+--------------------+---------------+----------------------+-------------+-------------------+------------------------+\n",
            "|ID_EVENTO_ATENCAO_SAUDE|ID_PLANO|    FAIXA_ETARIA|     SEXO|CD_MUNICIPIO_BENEFICIARIO|  PORTE|CD_MODALIDADE|       NM_MODALIDADE|CD_MUNICIPIO_PRESTADOR|UF_PRESTADOR|TEMPO_DE_PERMANENCIA|ANO_MES_EVENTO|CD_CARATER_ATENDIMENTO|CD_TIPO_INTERNACAO|CD_REGIME_INTERNACAO|CD_MOTIVO_SAIDA|QT_DIARIA_ACOMPANHANTE|QT_DIARIA_UTI|IND_ACIDENTE_DOENCA|LG_VALOR_PREESTABELECIDO|\n",
            "+-----------------------+--------+----------------+---------+-------------------------+-------+-------------+--------------------+----------------------+------------+--------------------+--------------+----------------------+------------------+--------------------+---------------+----------------------+-------------+-------------------+------------------------+\n",
            "|             2147483647|  225240|         30 a 39|Masculino|                   170210|PEQUENO|           22|  Cooperativa Médica|                170210|          TO|                   2|       2019-10|                     2|                 1|                   1|             12|                     0|            0|                  9|                       0|\n",
            "|             2147483647|  215334|         60 a 69| Feminino|                   172120|  MÉDIO|           24|          Autogestão|                170210|          TO|                   8|       2019-10|                     1|                 1|                   1|             21|                     0|            0|                  9|                       0|\n",
            "|             2147483647|  215334|         60 a 69|Masculino|                   172120|  MÉDIO|           24|          Autogestão|                170210|          TO|                   3|       2019-10|                     1|                 1|                   1|             18|                     0|            0|                  9|                       0|\n",
            "|             2147483647|  215334|         60 a 69| Feminino|                   172120|  MÉDIO|           24|          Autogestão|                170210|          TO|                   8|       2019-10|                     1|                 1|                   1|             21|                     0|            0|                  9|                       0|\n",
            "|             2147483647|  238364|         60 a 69| Feminino|                   170210| GRANDE|           22|  Cooperativa Médica|                170210|          TO|                   1|       2019-10|                     1|                 1|                   1|             12|                     0|            0|                  9|                       0|\n",
            "|             2147483647|  215334|         60 a 69|Masculino|                   172120|  MÉDIO|           24|          Autogestão|                170210|          TO|                  29|       2019-10|                     1|                 1|                   1|             21|                     0|            0|                  9|                       0|\n",
            "|             2147483647|  215191|Não identificado|     null|                     null|  MÉDIO|           24|          Autogestão|                170210|          TO|                   5|       2019-10|                     1|                 1|                   1|             21|                     0|            0|                  9|                       0|\n",
            "|             2147483647|  225236|         40 a 49| Feminino|                   170210|PEQUENO|           22|  Cooperativa Médica|                170210|          TO|                   1|       2019-10|                     1|                 2|                   1|             12|                     0|            0|                  9|                       0|\n",
            "|             2147483647|  235081|         30 a 39|Masculino|                   172120| GRANDE|           28|Seguradora Especi...|                170210|          TO|                   1|       2019-10|                     1|                 2|                   1|             12|                     0|            0|                  9|                       0|\n",
            "|             2147483647|  215334|         60 a 69|Masculino|                   172120|  MÉDIO|           24|          Autogestão|                170210|          TO|                  29|       2019-10|                     1|                 1|                   1|             21|                     0|            0|                  9|                       0|\n",
            "|             2147483647|  215334|         60 a 69|Masculino|                   172120|  MÉDIO|           24|          Autogestão|                170210|          TO|                   3|       2019-10|                     1|                 1|                   1|             18|                     0|            0|                  9|                       0|\n",
            "|             2147483647|  170517|         20 a 29| Feminino|                   170210|PEQUENO|           22|  Cooperativa Médica|                170210|          TO|                   2|       2019-10|                     1|                 3|                   1|             61|                     0|            0|                  9|                       0|\n",
            "|             2147483647|  215334|         60 a 69|Masculino|                   172120|  MÉDIO|           24|          Autogestão|                170210|          TO|                  29|       2019-10|                     1|                 1|                   1|             21|                     0|            0|                  9|                       0|\n",
            "|             2147483647|  215334|         60 a 69|Masculino|                   172120|  MÉDIO|           24|          Autogestão|                170210|          TO|                   3|       2019-10|                     1|                 1|                   1|             18|                     0|            0|                  9|                       0|\n",
            "|             2147483647|  227415|         30 a 39| Feminino|                   172100|  MÉDIO|           22|  Cooperativa Médica|                170210|          TO|                   3|       2019-10|                     2|                 1|                   1|             11|                     0|            0|                  9|                       0|\n",
            "|             2147483647|  225240|         40 a 49|Masculino|                   170210|PEQUENO|           22|  Cooperativa Médica|                170210|          TO|                   1|       2019-10|                     2|                 2|                   1|             12|                     0|            0|                  9|                       0|\n",
            "|             2147483647|  234587|           1 a 4|Masculino|                   330455|PEQUENO|           22|  Cooperativa Médica|                170210|          TO|                   1|       2019-10|                     2|                 4|                   1|             12|                     0|            0|                  9|                       0|\n",
            "|             2147483647|  238364|           1 a 4|Masculino|                   520870| GRANDE|           22|  Cooperativa Médica|                170210|          TO|                   1|       2019-10|                     1|                 1|                   1|             12|                     0|            0|                  9|                       0|\n",
            "|             2147483647|  175087|         50 a 59| Feminino|                   170210|PEQUENO|           22|  Cooperativa Médica|                170210|          TO|                   2|       2019-10|                     1|                 2|                   1|             12|                     0|            0|                  9|                       0|\n",
            "|             2147483647|  225254|           1 a 4| Feminino|                   170210|PEQUENO|           22|  Cooperativa Médica|                170210|          TO|                   1|       2019-10|                     2|                 4|                   1|             12|                     1|            0|                  9|                       0|\n",
            "+-----------------------+--------+----------------+---------+-------------------------+-------+-------------+--------------------+----------------------+------------+--------------------+--------------+----------------------+------------------+--------------------+---------------+----------------------+-------------+-------------------+------------------------+\n",
            "only showing top 20 rows\n",
            "\n"
          ]
        }
      ]
    },
    {
      "cell_type": "code",
      "source": [
        "BR_DET=BR_DET.drop(*('VL_ITEM_EVENTO_INFORMADO',\n",
        "                      ))\n",
        "BR_CONS.show()"
      ],
      "metadata": {
        "colab": {
          "base_uri": "https://localhost:8080/"
        },
        "id": "ID--jXviB6cA",
        "outputId": "f731251d-1576-4405-cac1-bb08bc32333a"
      },
      "execution_count": null,
      "outputs": [
        {
          "output_type": "stream",
          "name": "stdout",
          "text": [
            "+-----------------------+--------+----------------+---------+-------------------------+-------+-------------+--------------------+----------------------+------------+--------------------+--------------+----------------------+------------------+--------------------+---------------+----------------------+-------------+-------------------+------------------------+\n",
            "|ID_EVENTO_ATENCAO_SAUDE|ID_PLANO|    FAIXA_ETARIA|     SEXO|CD_MUNICIPIO_BENEFICIARIO|  PORTE|CD_MODALIDADE|       NM_MODALIDADE|CD_MUNICIPIO_PRESTADOR|UF_PRESTADOR|TEMPO_DE_PERMANENCIA|ANO_MES_EVENTO|CD_CARATER_ATENDIMENTO|CD_TIPO_INTERNACAO|CD_REGIME_INTERNACAO|CD_MOTIVO_SAIDA|QT_DIARIA_ACOMPANHANTE|QT_DIARIA_UTI|IND_ACIDENTE_DOENCA|LG_VALOR_PREESTABELECIDO|\n",
            "+-----------------------+--------+----------------+---------+-------------------------+-------+-------------+--------------------+----------------------+------------+--------------------+--------------+----------------------+------------------+--------------------+---------------+----------------------+-------------+-------------------+------------------------+\n",
            "|             2147483647|  225240|         30 a 39|Masculino|                   170210|PEQUENO|           22|  Cooperativa Médica|                170210|          TO|                   2|       2019-10|                     2|                 1|                   1|             12|                     0|            0|                  9|                       0|\n",
            "|             2147483647|  215334|         60 a 69| Feminino|                   172120|  MÉDIO|           24|          Autogestão|                170210|          TO|                   8|       2019-10|                     1|                 1|                   1|             21|                     0|            0|                  9|                       0|\n",
            "|             2147483647|  215334|         60 a 69|Masculino|                   172120|  MÉDIO|           24|          Autogestão|                170210|          TO|                   3|       2019-10|                     1|                 1|                   1|             18|                     0|            0|                  9|                       0|\n",
            "|             2147483647|  215334|         60 a 69| Feminino|                   172120|  MÉDIO|           24|          Autogestão|                170210|          TO|                   8|       2019-10|                     1|                 1|                   1|             21|                     0|            0|                  9|                       0|\n",
            "|             2147483647|  238364|         60 a 69| Feminino|                   170210| GRANDE|           22|  Cooperativa Médica|                170210|          TO|                   1|       2019-10|                     1|                 1|                   1|             12|                     0|            0|                  9|                       0|\n",
            "|             2147483647|  215334|         60 a 69|Masculino|                   172120|  MÉDIO|           24|          Autogestão|                170210|          TO|                  29|       2019-10|                     1|                 1|                   1|             21|                     0|            0|                  9|                       0|\n",
            "|             2147483647|  215191|Não identificado|     null|                     null|  MÉDIO|           24|          Autogestão|                170210|          TO|                   5|       2019-10|                     1|                 1|                   1|             21|                     0|            0|                  9|                       0|\n",
            "|             2147483647|  225236|         40 a 49| Feminino|                   170210|PEQUENO|           22|  Cooperativa Médica|                170210|          TO|                   1|       2019-10|                     1|                 2|                   1|             12|                     0|            0|                  9|                       0|\n",
            "|             2147483647|  235081|         30 a 39|Masculino|                   172120| GRANDE|           28|Seguradora Especi...|                170210|          TO|                   1|       2019-10|                     1|                 2|                   1|             12|                     0|            0|                  9|                       0|\n",
            "|             2147483647|  215334|         60 a 69|Masculino|                   172120|  MÉDIO|           24|          Autogestão|                170210|          TO|                  29|       2019-10|                     1|                 1|                   1|             21|                     0|            0|                  9|                       0|\n",
            "|             2147483647|  215334|         60 a 69|Masculino|                   172120|  MÉDIO|           24|          Autogestão|                170210|          TO|                   3|       2019-10|                     1|                 1|                   1|             18|                     0|            0|                  9|                       0|\n",
            "|             2147483647|  170517|         20 a 29| Feminino|                   170210|PEQUENO|           22|  Cooperativa Médica|                170210|          TO|                   2|       2019-10|                     1|                 3|                   1|             61|                     0|            0|                  9|                       0|\n",
            "|             2147483647|  215334|         60 a 69|Masculino|                   172120|  MÉDIO|           24|          Autogestão|                170210|          TO|                  29|       2019-10|                     1|                 1|                   1|             21|                     0|            0|                  9|                       0|\n",
            "|             2147483647|  215334|         60 a 69|Masculino|                   172120|  MÉDIO|           24|          Autogestão|                170210|          TO|                   3|       2019-10|                     1|                 1|                   1|             18|                     0|            0|                  9|                       0|\n",
            "|             2147483647|  227415|         30 a 39| Feminino|                   172100|  MÉDIO|           22|  Cooperativa Médica|                170210|          TO|                   3|       2019-10|                     2|                 1|                   1|             11|                     0|            0|                  9|                       0|\n",
            "|             2147483647|  225240|         40 a 49|Masculino|                   170210|PEQUENO|           22|  Cooperativa Médica|                170210|          TO|                   1|       2019-10|                     2|                 2|                   1|             12|                     0|            0|                  9|                       0|\n",
            "|             2147483647|  234587|           1 a 4|Masculino|                   330455|PEQUENO|           22|  Cooperativa Médica|                170210|          TO|                   1|       2019-10|                     2|                 4|                   1|             12|                     0|            0|                  9|                       0|\n",
            "|             2147483647|  238364|           1 a 4|Masculino|                   520870| GRANDE|           22|  Cooperativa Médica|                170210|          TO|                   1|       2019-10|                     1|                 1|                   1|             12|                     0|            0|                  9|                       0|\n",
            "|             2147483647|  175087|         50 a 59| Feminino|                   170210|PEQUENO|           22|  Cooperativa Médica|                170210|          TO|                   2|       2019-10|                     1|                 2|                   1|             12|                     0|            0|                  9|                       0|\n",
            "|             2147483647|  225254|           1 a 4| Feminino|                   170210|PEQUENO|           22|  Cooperativa Médica|                170210|          TO|                   1|       2019-10|                     2|                 4|                   1|             12|                     1|            0|                  9|                       0|\n",
            "+-----------------------+--------+----------------+---------+-------------------------+-------+-------------+--------------------+----------------------+------------+--------------------+--------------+----------------------+------------------+--------------------+---------------+----------------------+-------------+-------------------+------------------------+\n",
            "only showing top 20 rows\n",
            "\n"
          ]
        }
      ]
    },
    {
      "cell_type": "code",
      "source": [
        "BR_CONS = BR_CONS.dropna()"
      ],
      "metadata": {
        "id": "MFh5Bw42P1DT"
      },
      "execution_count": null,
      "outputs": []
    },
    {
      "cell_type": "code",
      "source": [
        "BR_DET = BR_DET.dropna()"
      ],
      "metadata": {
        "id": "XcHZXc7qQx65"
      },
      "execution_count": null,
      "outputs": []
    },
    {
      "cell_type": "code",
      "source": [
        "BR_CONS.select([f.count(f.when(f.isnull(c), 1)).alias(c) for c in BR_CONS.columns]).show()"
      ],
      "metadata": {
        "id": "6odKk1DPREr5",
        "colab": {
          "base_uri": "https://localhost:8080/"
        },
        "outputId": "a2246c88-fc12-4e33-da51-b84a75b7e64a"
      },
      "execution_count": null,
      "outputs": [
        {
          "output_type": "stream",
          "name": "stdout",
          "text": [
            "+-----------------------+--------+------------+----+-------------------------+-----+-------------+-------------+----------------------+------------+--------------------+--------------+----------------------+------------------+--------------------+---------------+----------------------+-------------+-------------------+------------------------+\n",
            "|ID_EVENTO_ATENCAO_SAUDE|ID_PLANO|FAIXA_ETARIA|SEXO|CD_MUNICIPIO_BENEFICIARIO|PORTE|CD_MODALIDADE|NM_MODALIDADE|CD_MUNICIPIO_PRESTADOR|UF_PRESTADOR|TEMPO_DE_PERMANENCIA|ANO_MES_EVENTO|CD_CARATER_ATENDIMENTO|CD_TIPO_INTERNACAO|CD_REGIME_INTERNACAO|CD_MOTIVO_SAIDA|QT_DIARIA_ACOMPANHANTE|QT_DIARIA_UTI|IND_ACIDENTE_DOENCA|LG_VALOR_PREESTABELECIDO|\n",
            "+-----------------------+--------+------------+----+-------------------------+-----+-------------+-------------+----------------------+------------+--------------------+--------------+----------------------+------------------+--------------------+---------------+----------------------+-------------+-------------------+------------------------+\n",
            "|                      0|       0|           0|   0|                        0|    0|            0|            0|                     0|           0|                   0|             0|                     0|                 0|                   0|              0|                     0|            0|                  0|                       0|\n",
            "+-----------------------+--------+------------+----+-------------------------+-----+-------------+-------------+----------------------+------------+--------------------+--------------+----------------------+------------------+--------------------+---------------+----------------------+-------------+-------------------+------------------------+\n",
            "\n"
          ]
        }
      ]
    },
    {
      "cell_type": "code",
      "source": [
        "BR_DET.select([f.count(f.when(f.isnull(c), 1)).alias(c) for c in BR_DET.columns]).show()"
      ],
      "metadata": {
        "id": "hx53MLdvQ80y",
        "colab": {
          "base_uri": "https://localhost:8080/"
        },
        "outputId": "3f5e8792-3257-47b1-d8c3-86fdee34fbb4"
      },
      "execution_count": null,
      "outputs": [
        {
          "output_type": "stream",
          "name": "stdout",
          "text": [
            "+-----------------------+------------+--------------------+--------------+---------------+--------------------+------------------------+-----------------------+----------+------------------+\n",
            "|ID_EVENTO_ATENCAO_SAUDE|UF_PRESTADOR|TEMPO_DE_PERMANENCIA|ANO_MES_EVENTO|CD_PROCEDIMENTO|CD_TABELA_REFERENCIA|QT_ITEM_EVENTO_INFORMADO|VL_ITEM_PAGO_FORNECEDOR|IND_PACOTE|IND_TABELA_PROPRIA|\n",
            "+-----------------------+------------+--------------------+--------------+---------------+--------------------+------------------------+-----------------------+----------+------------------+\n",
            "|                      0|           0|                   0|             0|              0|                   0|                       0|                      0|         0|                 0|\n",
            "+-----------------------+------------+--------------------+--------------+---------------+--------------------+------------------------+-----------------------+----------+------------------+\n",
            "\n"
          ]
        }
      ]
    },
    {
      "cell_type": "code",
      "source": [
        "BR_CONS.createOrReplaceTempView(\"BR_CONSView\")"
      ],
      "metadata": {
        "id": "trbPJB-BvBpC"
      },
      "execution_count": null,
      "outputs": []
    },
    {
      "cell_type": "code",
      "source": [
        "# spark\\\n",
        "#     .sql(\"\"\"\n",
        "#         SELECT * \n",
        "#             FROM BR_CONSView \n",
        "#             WHERE  TEMPO_DE_PERMANENCIA > 50, \n",
        "#     \"\"\")\\\n",
        "#     .show(5)"
      ],
      "metadata": {
        "id": "7l2HRtRzTXjM"
      },
      "execution_count": null,
      "outputs": []
    },
    {
      "cell_type": "code",
      "source": [
        "BR_DET.createOrReplaceTempView(\"BR_DETView\")"
      ],
      "metadata": {
        "id": "3ZbKhJ9ovMW9"
      },
      "execution_count": null,
      "outputs": []
    },
    {
      "cell_type": "code",
      "source": [
        "BR_CONS.write.csv(\n",
        "    path='/content/drive/MyDrive/Pasta_Neurotech',\n",
        "    mode='overwrite',\n",
        "    sep=';',\n",
        "    header=True\n",
        ")"
      ],
      "metadata": {
        "id": "Rgni-p16M_xn"
      },
      "execution_count": null,
      "outputs": []
    },
    {
      "cell_type": "code",
      "source": [
        "BR_CONS = BR_CONS.toPandas()"
      ],
      "metadata": {
        "id": "_kk65ejZGs_6"
      },
      "execution_count": null,
      "outputs": []
    },
    {
      "cell_type": "code",
      "source": [
        "BR_CONS.info ()"
      ],
      "metadata": {
        "colab": {
          "base_uri": "https://localhost:8080/"
        },
        "id": "G_7jxiBXHGpw",
        "outputId": "27738ae9-d698-4bd6-9ed8-028d6c8665b7"
      },
      "execution_count": null,
      "outputs": [
        {
          "output_type": "stream",
          "name": "stdout",
          "text": [
            "<class 'pandas.core.frame.DataFrame'>\n",
            "RangeIndex: 15145 entries, 0 to 15144\n",
            "Data columns (total 20 columns):\n",
            " #   Column                     Non-Null Count  Dtype \n",
            "---  ------                     --------------  ----- \n",
            " 0   ID_EVENTO_ATENCAO_SAUDE    15145 non-null  int32 \n",
            " 1   ID_PLANO                   15145 non-null  int32 \n",
            " 2   FAIXA_ETARIA               15145 non-null  object\n",
            " 3   SEXO                       15145 non-null  object\n",
            " 4   CD_MUNICIPIO_BENEFICIARIO  15145 non-null  int32 \n",
            " 5   PORTE                      15145 non-null  object\n",
            " 6   CD_MODALIDADE              15145 non-null  int32 \n",
            " 7   NM_MODALIDADE              15145 non-null  object\n",
            " 8   CD_MUNICIPIO_PRESTADOR     15145 non-null  int32 \n",
            " 9   UF_PRESTADOR               15145 non-null  object\n",
            " 10  TEMPO_DE_PERMANENCIA       15145 non-null  int32 \n",
            " 11  ANO_MES_EVENTO             15145 non-null  object\n",
            " 12  CD_CARATER_ATENDIMENTO     15145 non-null  int32 \n",
            " 13  CD_TIPO_INTERNACAO         15145 non-null  int32 \n",
            " 14  CD_REGIME_INTERNACAO       15145 non-null  int32 \n",
            " 15  CD_MOTIVO_SAIDA            15145 non-null  int32 \n",
            " 16  QT_DIARIA_ACOMPANHANTE     15145 non-null  int32 \n",
            " 17  QT_DIARIA_UTI              15145 non-null  int32 \n",
            " 18  IND_ACIDENTE_DOENCA        15145 non-null  int32 \n",
            " 19  LG_VALOR_PREESTABELECIDO   15145 non-null  int32 \n",
            "dtypes: int32(14), object(6)\n",
            "memory usage: 1.5+ MB\n"
          ]
        }
      ]
    },
    {
      "cell_type": "code",
      "source": [
        "plt.figure(figsize=(20, 5), dpi=100)\n",
        "plt.bar(BR_CONS[\"FAIXA_ETARIA\"], BR_CONS[\"TEMPO_DE_PERMANENCIA\"])\n",
        "plt.ylabel('Tempo de permanencia')\n",
        "plt.xlabel('Ano-Mes')\n",
        "plt.title('Tempo de Permanência por faixa etária')\n",
        "plt.show()"
      ],
      "metadata": {
        "colab": {
          "base_uri": "https://localhost:8080/",
          "height": 286
        },
        "id": "qM_Q8_z5GInt",
        "outputId": "b7ac73c4-c1ad-4878-ccf6-b58761c38dd2"
      },
      "execution_count": null,
      "outputs": [
        {
          "output_type": "display_data",
          "data": {
            "image/png": "[encoded data removed]",
            "text/plain": [
              "<Figure size 2000x500 with 1 Axes>"
            ]
          },
          "metadata": {
            "needs_background": "light"
          }
        }
      ]
    },
    {
      "cell_type": "code",
      "source": [
        "plt.figure( figsize=(15,8) ) \n",
        "sns.heatmap(BR_CONS.corr(), annot=True)"
      ],
      "metadata": {
        "colab": {
          "base_uri": "https://localhost:8080/",
          "height": 644
        },
        "id": "5B5r-i3_Y9Ci",
        "outputId": "aa36dd38-113e-4b8b-cc19-4c1cc883d81a"
      },
      "execution_count": null,
      "outputs": [
        {
          "output_type": "execute_result",
          "data": {
            "text/plain": [
              "<matplotlib.axes._subplots.AxesSubplot at 0x7ffb5e4c7e10>"
            ]
          },
          "metadata": {},
          "execution_count": 127
        },
        {
          "output_type": "display_data",
          "data": {
            "image/png": "[encoded data removed]",
            "text/plain": [
              "<Figure size 1080x576 with 2 Axes>"
            ]
          },
          "metadata": {
            "needs_background": "light"
          }
        }
      ]
    },
    {
      "cell_type": "code",
      "source": [
        "\n",
        "plt.figure()\n",
        "sns.heatmap(pd.crosstab(BR_CONS['ID_PLANO'],BR_CONS['CD_MODALIDADE']))\n",
        "plt.show()"
      ],
      "metadata": {
        "colab": {
          "base_uri": "https://localhost:8080/",
          "height": 285
        },
        "id": "8kRMPnIEvpY1",
        "outputId": "ddd75726-7c8a-4ed7-f1d7-f78e854760c6"
      },
      "execution_count": null,
      "outputs": [
        {
          "output_type": "display_data",
          "data": {
            "image/png": "[encoded data removed]",
            "text/plain": [
              "<Figure size 432x288 with 2 Axes>"
            ]
          },
          "metadata": {
            "needs_background": "light"
          }
        }
      ]
    },
    {
      "cell_type": "markdown",
      "source": [
        "# 2 - Pré-processamento de dados"
      ],
      "metadata": {
        "id": "0Jin-0rrEYH5"
      }
    },
    {
      "cell_type": "code",
      "source": [
        "x = BR_CONS[[\"IND_ACIDENTE_DOENCA\", \"TEMPO_DE_PERMANENCIA\", \"CD_TIPO_INTERNACAO\", \"CD_CARATER_ATENDIMENTO\"]]\n",
        "y = BR_CONS[\"CD_MUNICIPIO_PRESTADOR\"]"
      ],
      "metadata": {
        "id": "IbTkzYbByCXe"
      },
      "execution_count": null,
      "outputs": []
    },
    {
      "cell_type": "code",
      "source": [
        "from sklearn.model_selection import train_test_split\n",
        "from sklearn.svm import LinearSVC\n",
        "from sklearn.metrics import accuracy_score"
      ],
      "metadata": {
        "id": "8snvOCUxzI3m"
      },
      "execution_count": null,
      "outputs": []
    },
    {
      "cell_type": "markdown",
      "source": [
        "# 3 - Modelando Dados"
      ],
      "metadata": {
        "id": "2Yzm66W2FgR_"
      }
    },
    {
      "cell_type": "code",
      "source": [
        "SEED = 5\n",
        "np.random.seed(SEED)\n",
        "treino_x, teste_x, treino_y, teste_y = train_test_split(x, y, test_size = 0.25,\n",
        "                                                         stratify = y)\n",
        "print(\"Treinaremos com %d elementos e testaremos com %d elementos\" % (len(treino_x), len(teste_x)))\n",
        "\n",
        "modelo = LinearSVC()\n",
        "modelo.fit(treino_x, treino_y)\n",
        "previsoes = modelo.predict(teste_x)\n",
        "\n",
        "acuracia = accuracy_score(teste_y, previsoes) * 100\n",
        "print(\"A acurácia foi %.2f%%\" % acuracia)\n"
      ],
      "metadata": {
        "id": "MwIwCUgEPBUV",
        "colab": {
          "base_uri": "https://localhost:8080/"
        },
        "outputId": "443d96bc-d641-431c-e82f-8e999edcab07"
      },
      "execution_count": null,
      "outputs": [
        {
          "output_type": "stream",
          "name": "stdout",
          "text": [
            "Treinaremos com 11358 elementos e testaremos com 3787 elementos\n",
            "A acurácia foi 76.37%\n"
          ]
        },
        {
          "output_type": "stream",
          "name": "stderr",
          "text": [
            "/usr/local/lib/python3.7/dist-packages/sklearn/svm/_base.py:1208: ConvergenceWarning: Liblinear failed to converge, increase the number of iterations.\n",
            "  ConvergenceWarning,\n"
          ]
        }
      ]
    },
    {
      "cell_type": "code",
      "source": [
        "from sklearn.preprocessing import StandardScaler\n",
        "from sklearn.model_selection import train_test_split\n",
        "from sklearn.tree import DecisionTreeClassifier\n",
        "from sklearn.metrics import accuracy_score, f1_score, precision_score, recall_score, classification_report, confusion_matrix\n",
        "SEED = 5\n",
        "np.random.seed(SEED)\n",
        "raw_treino_x, raw_teste_x, treino_y, teste_y = train_test_split(x, y, test_size = 0.25,\n",
        "                                                         stratify = y)\n",
        "print(\"Treinaremos com %d elementos e testaremos com %d elementos\" % (len(treino_x), len(teste_x)))\n",
        "\n",
        "modelo = DecisionTreeClassifier(max_depth=3)\n",
        "modelo.fit(raw_treino_x, treino_y)\n",
        "previsoes = modelo.predict(raw_teste_x)\n",
        "\n",
        "acuracia = accuracy_score(teste_y, previsoes) * 100\n",
        "print(\"A acurácia foi %.2f%%\" % acuracia)\n",
        "\n",
        "# print(\"A acurácia foi %.2f%%\" % acuracia)\n",
        "# #print(\"A f1 foi %.2f%%\" % F1)\n",
        "# print(\"A recall foi %.2f%%\" % Recal)\n",
        "# print(\"A Precisão foi %.2f%%\" % Precisao)\n",
        "\n"
      ],
      "metadata": {
        "colab": {
          "base_uri": "https://localhost:8080/"
        },
        "id": "1eXp-iDl1k8t",
        "outputId": "0791918d-5b70-4eb3-f007-30d042c950a8"
      },
      "execution_count": null,
      "outputs": [
        {
          "output_type": "stream",
          "name": "stdout",
          "text": [
            "Treinaremos com 11358 elementos e testaremos com 3787 elementos\n",
            "A acurácia foi 78.85%\n"
          ]
        }
      ]
    },
    {
      "cell_type": "code",
      "source": [
        "# from sklearn.datasets import make_classification\n",
        "# from sklearn.cross_validation import StratifiedShuffleSplit\n",
        "\n",
        "# X, y = make_classification(n_samples=100, n_informative=10, n_classes=3)\n",
        "# sss = StratifiedShuffleSplit(y, n_iter=1, test_size=0.5, random_state=0)\n",
        "\n",
        "# for train_idx, test_idx in sss:\n",
        "#     X_train, X_test, y_train, y_test = X[train_idx], X[test_idx], y[train_idx], y[test_idx]\n",
        "#     svc.fit(X_train, y_train)\n",
        "#     y_pred = svc.predict(X_test)\n",
        "#     print(f1_score(y_test, y_pred, average=\"macro\"))\n",
        "#     print(precision_score(y_test, y_pred, average=\"macro\"))\n",
        "#     print(recall_score(y_test, y_pred, average=\"macro\"))"
      ],
      "metadata": {
        "id": "r2UT_DFO9xBj"
      },
      "execution_count": null,
      "outputs": []
    },
    {
      "cell_type": "code",
      "source": [
        "# from sklearn.tree import export_graphviz\n",
        "# import graphviz\n",
        "\n",
        "# features = x.columns\n",
        "# dot_data = export_graphviz(modelo, out_file=None,\n",
        "#                            filled = True, rounded = True,\n",
        "#                            feature_names = features,\n",
        "#                           class_names = [\"não\", \"sim\"])\n",
        "# grafico = graphviz.Source(dot_data)\n",
        "# grafico"
      ],
      "metadata": {
        "id": "o05HVdqBM-HL"
      },
      "execution_count": null,
      "outputs": []
    },
    {
      "cell_type": "code",
      "source": [
        "from sklearn.ensemble import RandomForestRegressor\n",
        "rf = RandomForestRegressor(n_estimators = 100, random_state = 0)\n",
        "rf.fit(raw_treino_x, treino_y);"
      ],
      "metadata": {
        "id": "PfX1LeuC2InF"
      },
      "execution_count": null,
      "outputs": []
    },
    {
      "cell_type": "code",
      "source": [
        "predictions = rf.predict(teste_x)"
      ],
      "metadata": {
        "id": "NGu9MEcd2_Pd"
      },
      "execution_count": null,
      "outputs": []
    },
    {
      "cell_type": "code",
      "source": [
        "plt.figure(figsize=(20,5), dpi=100)\n",
        "plt.plot(teste_y.to_numpy(),label=\"CD_MUNICIPIO_PRESTADOR\")\n",
        "plt.plot(predictions,label=\"Predições de CD_MUNICIPIO_PRESTADOR\")\n",
        "plt.legend()\n",
        "plt.show()"
      ],
      "metadata": {
        "colab": {
          "base_uri": "https://localhost:8080/",
          "height": 338
        },
        "id": "AQ_mZmvz_qzU",
        "outputId": "93c253eb-218e-4e56-a998-38e133871fef"
      },
      "execution_count": 190,
      "outputs": [
        {
          "output_type": "display_data",
          "data": {
            "image/png": "[encoded data removed]",
            "text/plain": [
              "<Figure size 2000x500 with 1 Axes>"
            ]
          },
          "metadata": {
            "needs_background": "light"
          }
        }
      ]
    },
    {
      "cell_type": "code",
      "source": [
        "from sklearn import metrics\n",
        "\n",
        "\n",
        "print('Mean Absolute Error:', metrics.mean_absolute_error(teste_y, predictions))\n",
        "print('Mean Squared Error:', metrics.mean_squared_error(teste_y, predictions))\n",
        "print('Root Mean Squared Error:', np.sqrt(metrics.mean_squared_error(teste_y, predictions)))"
      ],
      "metadata": {
        "colab": {
          "base_uri": "https://localhost:8080/"
        },
        "id": "N8ipTHFS37cV",
        "outputId": "6b8575f6-34ad-4348-fbbc-e5993fa03e03"
      },
      "execution_count": null,
      "outputs": [
        {
          "output_type": "stream",
          "name": "stdout",
          "text": [
            "Mean Absolute Error: 253.74930645595765\n",
            "Mean Squared Error: 232422.78085499755\n",
            "Root Mean Squared Error: 482.1024588767387\n"
          ]
        }
      ]
    },
    {
      "cell_type": "code",
      "source": [
        "rf.score(teste_x, teste_y)"
      ],
      "metadata": {
        "colab": {
          "base_uri": "https://localhost:8080/"
        },
        "id": "30zdoNFX6oR0",
        "outputId": "fa5732b8-c87e-4775-a328-f73661a73fe8"
      },
      "execution_count": null,
      "outputs": [
        {
          "output_type": "execute_result",
          "data": {
            "text/plain": [
              "0.6164459720325473"
            ]
          },
          "metadata": {},
          "execution_count": 189
        }
      ]
    }
  ]
}