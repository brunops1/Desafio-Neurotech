{
  "nbformat": 4,
  "nbformat_minor": 0,
  "metadata": {
    "colab": {
      "name": "Desafio_Neurotech_Bruno.pynb",
      "provenance": [],
      "collapsed_sections": [
        "f1Gg0E-z3D6r",
        "0Jin-0rrEYH5",
        "2Yzm66W2FgR_"
      ],
      "mount_file_id": "1aYfPD-AuRUDTjAoSjISmzFSjsKKxi1MV",
      "authorship_tag": "ABX9TyOCw/B5tn0gSZ+wb/w5FNcV",
      "include_colab_link": true
    },
    "kernelspec": {
      "name": "python3",
      "display_name": "Python 3"
    },
    "language_info": {
      "name": "python"
    }
  },
  "cells": [
    {
      "cell_type": "markdown",
      "metadata": {
        "id": "view-in-github",
        "colab_type": "text"
      },
      "source": [
        "<a href=\"https://colab.research.google.com/github/brunops1/Desafio-Neurotech/blob/main/Desafio_Neurotech_Bruno_pynb.ipynb\" target=\"_parent\"><img src=\"https://colab.research.google.com/assets/colab-badge.svg\" alt=\"Open In Colab\"/></a>"
      ]
    },
    {
      "cell_type": "markdown",
      "source": [
        "# Instalações e Importações"
      ],
      "metadata": {
        "id": "EdBZKWccHuxK"
      }
    },
    {
      "cell_type": "code",
      "execution_count": null,
      "metadata": {
        "id": "JmcO4uWZ3OLO"
      },
      "outputs": [],
      "source": [
        "# instalar as dependências\n",
        "!apt-get update -qq\n",
        "!apt-get install openjdk-8-jdk-headless -qq > /dev/null\n",
        "!wget -q https://archive.apache.org/dist/spark/spark-3.1.2/spark-3.1.2-bin-hadoop2.7.tgz\n",
        "!tar xf spark-3.1.2-bin-hadoop2.7.tgz\n",
        "!pip install -q findspark"
      ]
    },
    {
      "cell_type": "code",
      "source": [
        "import os\n",
        "os.environ[\"JAVA_HOME\"] = \"/usr/lib/jvm/java-8-openjdk-amd64\"\n",
        "os.environ[\"SPARK_HOME\"] = \"/content/spark-3.1.2-bin-hadoop2.7\""
      ],
      "metadata": {
        "id": "Q6Ac42llxXBV"
      },
      "execution_count": 2,
      "outputs": []
    },
    {
      "cell_type": "code",
      "source": [
        "import findspark\n",
        "findspark.init()"
      ],
      "metadata": {
        "id": "FvSAGEPqxYg1"
      },
      "execution_count": 3,
      "outputs": []
    },
    {
      "cell_type": "code",
      "source": [
        "from pyspark.sql import SparkSession\n",
        "\n",
        "spark = SparkSession.builder \\\n",
        "    .master('local[*]') \\\n",
        "    .appName(\"desafio neurotech park\") \\\n",
        "    .config('spark.ui.port', '4050') \\\n",
        "    .getOrCreate()"
      ],
      "metadata": {
        "id": "X84gT92VyvDV"
      },
      "execution_count": 4,
      "outputs": []
    },
    {
      "cell_type": "code",
      "source": [
        "!wget -q https://bin.equinox.io/c/4VmDzA7iaHb/ngrok-stable-linux-amd64.zip\n",
        "!unzip ngrok-stable-linux-amd64.zip"
      ],
      "metadata": {
        "colab": {
          "base_uri": "https://localhost:8080/"
        },
        "id": "sjyWEorQzmjV",
        "outputId": "510b562c-50ab-4b9f-f123-0ba842ecb99a"
      },
      "execution_count": 5,
      "outputs": [
        {
          "output_type": "stream",
          "name": "stdout",
          "text": [
            "Archive:  ngrok-stable-linux-amd64.zip\n",
            "replace ngrok? [y]es, [n]o, [A]ll, [N]one, [r]ename: "
          ]
        }
      ]
    },
    {
      "cell_type": "code",
      "source": [
        "get_ipython().system_raw('./ngrok http 4050 &')"
      ],
      "metadata": {
        "id": "gAgfKatwzvC0"
      },
      "execution_count": 6,
      "outputs": []
    },
    {
      "cell_type": "code",
      "source": [
        "!curl -s http://localhost:4040/api/tunnels"
      ],
      "metadata": {
        "colab": {
          "base_uri": "https://localhost:8080/"
        },
        "id": "TU59MDwnz2QT",
        "outputId": "1f8420a5-6e37-45da-c7ed-aedd094d5fe6"
      },
      "execution_count": 7,
      "outputs": [
        {
          "output_type": "stream",
          "name": "stdout",
          "text": [
            "{\"tunnels\":[],\"uri\":\"/api/tunnels\"}\n"
          ]
        }
      ]
    },
    {
      "cell_type": "code",
      "source": [
        "spark"
      ],
      "metadata": {
        "colab": {
          "base_uri": "https://localhost:8080/",
          "height": 219
        },
        "id": "8zD57ulCz7mw",
        "outputId": "740d8da0-8940-46d1-f61a-53c7ad4e7bf0"
      },
      "execution_count": 8,
      "outputs": [
        {
          "output_type": "execute_result",
          "data": {
            "text/html": [
              "\n",
              "            <div>\n",
              "                <p><b>SparkSession - in-memory</b></p>\n",
              "                \n",
              "        <div>\n",
              "            <p><b>SparkContext</b></p>\n",
              "\n",
              "            <p><a href=\"http://9211c5b2a15e:4050\">Spark UI</a></p>\n",
              "\n",
              "            <dl>\n",
              "              <dt>Version</dt>\n",
              "                <dd><code>v3.1.2</code></dd>\n",
              "              <dt>Master</dt>\n",
              "                <dd><code>local[*]</code></dd>\n",
              "              <dt>AppName</dt>\n",
              "                <dd><code>desafio neurotech park</code></dd>\n",
              "            </dl>\n",
              "        </div>\n",
              "        \n",
              "            </div>\n",
              "        "
            ],
            "text/plain": [
              "<pyspark.sql.session.SparkSession at 0x7ff86aae8490>"
            ]
          },
          "metadata": {},
          "execution_count": 8
        }
      ]
    },
    {
      "cell_type": "code",
      "source": [
        "from pyspark.sql import Row, DataFrame\n",
        "from pyspark.sql.types import StringType, StructType, StructField, IntegerType\n",
        "from pyspark.sql.functions import col, expr, lit, substring, concat, concat_ws, when, coalesce\n",
        "from pyspark.sql import functions as F\n",
        "from functools import reduce"
      ],
      "metadata": {
        "id": "yG8CMJh-97z_"
      },
      "execution_count": 9,
      "outputs": []
    },
    {
      "cell_type": "code",
      "execution_count": 13,
      "metadata": {
        "id": "6g2I8wYShfYJ",
        "colab": {
          "base_uri": "https://localhost:8080/"
        },
        "outputId": "6ff4bcc7-1a4b-4460-ceb6-f5782a07ce1c"
      },
      "outputs": [
        {
          "output_type": "stream",
          "name": "stdout",
          "text": [
            "Drive already mounted at /content/drive; to attempt to forcibly remount, call drive.mount(\"/content/drive\", force_remount=True).\n"
          ]
        }
      ],
      "source": [
        "from google.colab import drive\n",
        "drive.mount('/content/drive')"
      ]
    },
    {
      "cell_type": "code",
      "source": [
        "!pip install sklearn # Instalação da biblioteca SKLearn (Modelos de Aprendizado de Maquinas)"
      ],
      "metadata": {
        "colab": {
          "base_uri": "https://localhost:8080/"
        },
        "id": "hnGDsu0YUtRR",
        "outputId": "0e74a48a-3cf1-4da8-db19-52f64490e7f1"
      },
      "execution_count": 10,
      "outputs": [
        {
          "output_type": "stream",
          "name": "stdout",
          "text": [
            "Requirement already satisfied: sklearn in /usr/local/lib/python3.7/dist-packages (0.0)\n",
            "Requirement already satisfied: scikit-learn in /usr/local/lib/python3.7/dist-packages (from sklearn) (1.0.2)\n",
            "Requirement already satisfied: scipy>=1.1.0 in /usr/local/lib/python3.7/dist-packages (from scikit-learn->sklearn) (1.4.1)\n",
            "Requirement already satisfied: numpy>=1.14.6 in /usr/local/lib/python3.7/dist-packages (from scikit-learn->sklearn) (1.19.5)\n",
            "Requirement already satisfied: threadpoolctl>=2.0.0 in /usr/local/lib/python3.7/dist-packages (from scikit-learn->sklearn) (3.0.0)\n",
            "Requirement already satisfied: joblib>=0.11 in /usr/local/lib/python3.7/dist-packages (from scikit-learn->sklearn) (1.1.0)\n"
          ]
        }
      ]
    },
    {
      "cell_type": "code",
      "source": [
        "import pandas as pd # Importando pandas para manipulação de Dados (DataFrame)\n",
        "\n",
        "import numpy as np # Importando o numpy para operações matemáticas \n",
        "\n",
        "import seaborn as sns # Importando seaborn para análise gráfica\n",
        "import matplotlib.pyplot as plt  # Importando o pyplot para análise gráfica"
      ],
      "metadata": {
        "id": "cB5tepJ-Uxx7"
      },
      "execution_count": 11,
      "outputs": []
    },
    {
      "cell_type": "markdown",
      "source": [
        "# Carregamento dos dados\n"
      ],
      "metadata": {
        "id": "3sHc6OmP-h_7"
      }
    },
    {
      "cell_type": "code",
      "execution_count": 10,
      "metadata": {
        "id": "sffAOcMQt_aR"
      },
      "outputs": [],
      "source": [
        "import zipfile"
      ]
    },
    {
      "cell_type": "code",
      "execution_count": null,
      "metadata": {
        "id": "4RVsaljf8mus"
      },
      "outputs": [],
      "source": [
        "\n",
        "zipfile.ZipFile('/content/drive/MyDrive/Desafio_Neurotech/AC.zip', 'r').extractall('/content/drive/MyDrive/Arquivos_Neurotech')\n",
        "zipfile.ZipFile('/content/drive/MyDrive/Desafio_Neurotech/AL.zip', 'r').extractall('/content/drive/MyDrive/Arquivos_Neurotech')\n",
        "zipfile.ZipFile('/content/drive/MyDrive/Desafio_Neurotech/AM.zip', 'r').extractall('/content/drive/MyDrive/Arquivos_Neurotech')\n",
        "zipfile.ZipFile('/content/drive/MyDrive/Desafio_Neurotech/AP.zip', 'r').extractall('/content/drive/MyDrive/Arquivos_Neurotech')\n",
        "zipfile.ZipFile('/content/drive/MyDrive/Desafio_Neurotech/BA.zip', 'r').extractall('/content/drive/MyDrive/Arquivos_Neurotech')\n",
        "zipfile.ZipFile('/content/drive/MyDrive/Desafio_Neurotech/CE.zip', 'r').extractall('/content/drive/MyDrive/Arquivos_Neurotech')\n",
        "zipfile.ZipFile('/content/drive/MyDrive/Desafio_Neurotech/DF.zip', 'r').extractall('/content/drive/MyDrive/Arquivos_Neurotech')\n",
        "zipfile.ZipFile('/content/drive/MyDrive/Desafio_Neurotech/ES.zip', 'r').extractall('/content/drive/MyDrive/Arquivos_Neurotech')\n",
        "zipfile.ZipFile('/content/drive/MyDrive/Desafio_Neurotech/GO.zip', 'r').extractall('/content/drive/MyDrive/Arquivos_Neurotech')\n",
        "zipfile.ZipFile('/content/drive/MyDrive/Desafio_Neurotech/MA.zip', 'r').extractall('/content/drive/MyDrive/Arquivos_Neurotech')\n",
        "zipfile.ZipFile('/content/drive/MyDrive/Desafio_Neurotech/MG.zip', 'r').extractall('/content/drive/MyDrive/Arquivos_Neurotech')\n",
        "zipfile.ZipFile('/content/drive/MyDrive/Desafio_Neurotech/MS.zip', 'r').extractall('/content/drive/MyDrive/Arquivos_Neurotech')\n",
        "zipfile.ZipFile('/content/drive/MyDrive/Desafio_Neurotech/MT.zip', 'r').extractall('/content/drive/MyDrive/Arquivos_Neurotech')\n",
        "zipfile.ZipFile('/content/drive/MyDrive/Desafio_Neurotech/PA.zip', 'r').extractall('/content/drive/MyDrive/Arquivos_Neurotech')\n",
        "zipfile.ZipFile('/content/drive/MyDrive/Desafio_Neurotech/PB.zip', 'r').extractall('/content/drive/MyDrive/Arquivos_Neurotech')\n",
        "zipfile.ZipFile('/content/drive/MyDrive/Desafio_Neurotech/PE.zip', 'r').extractall('/content/drive/MyDrive/Arquivos_Neurotech')\n",
        "zipfile.ZipFile('/content/drive/MyDrive/Desafio_Neurotech/PI.zip', 'r').extractall('/content/drive/MyDrive/Arquivos_Neurotech')\n",
        "zipfile.ZipFile('/content/drive/MyDrive/Desafio_Neurotech/PR.zip', 'r').extractall('/content/drive/MyDrive/Arquivos_Neurotech')\n",
        "zipfile.ZipFile('/content/drive/MyDrive/Desafio_Neurotech/RJ.zip', 'r').extractall('/content/drive/MyDrive/Arquivos_Neurotech')\n",
        "zipfile.ZipFile('/content/drive/MyDrive/Desafio_Neurotech/RN.zip', 'r').extractall('/content/drive/MyDrive/Arquivos_Neurotech')\n",
        "zipfile.ZipFile('/content/drive/MyDrive/Desafio_Neurotech/RO.zip', 'r').extractall('/content/drive/MyDrive/Arquivos_Neurotech')\n",
        "zipfile.ZipFile('/content/drive/MyDrive/Desafio_Neurotech/RR.zip', 'r').extractall('/content/drive/MyDrive/Arquivos_Neurotech')\n",
        "zipfile.ZipFile('/content/drive/MyDrive/Desafio_Neurotech/RS.zip', 'r').extractall('/content/drive/MyDrive/Arquivos_Neurotech')\n",
        "zipfile.ZipFile('/content/drive/MyDrive/Desafio_Neurotech/SC.zip', 'r').extractall('/content/drive/MyDrive/Arquivos_Neurotech')\n",
        "zipfile.ZipFile('/content/drive/MyDrive/Desafio_Neurotech/SE.zip', 'r').extractall('/content/drive/MyDrive/Arquivos_Neurotech')\n",
        "zipfile.ZipFile('/content/drive/MyDrive/Desafio_Neurotech/SP.zip', 'r').extractall('/content/drive/MyDrive/Arquivos_Neurotech')\n",
        "zipfile.ZipFile('/content/drive/MyDrive/Desafio_Neurotech/TO.zip', 'r').extractall('/content/drive/MyDrive/Arquivos_Neurotech')"
      ]
    },
    {
      "cell_type": "markdown",
      "source": [
        "BR_CONS"
      ],
      "metadata": {
        "id": "zBaeAzL_gFF7"
      }
    },
    {
      "cell_type": "code",
      "source": [
        "path = '/content/drive/MyDrive/Arquivos_Neurotech/AC/AC_CONS'\n",
        "BR_CONS = spark.read.csv(path, sep=';', header =True)\n",
        "path = '/content/drive/MyDrive/Arquivos_Neurotech/AL/AL_CONS'\n",
        "BR_CONS = spark.read.csv(path, sep=';', header =True)\n",
        "path = '/content/drive/MyDrive/Arquivos_Neurotech/AM/AM_CONS'\n",
        "BR_CONS = spark.read.csv(path, sep=';', header =True)\n",
        "path = '/content/drive/MyDrive/Arquivos_Neurotech/AP/AP_CONS'\n",
        "BR_CONS = spark.read.csv(path, sep=';', header =True)\n",
        "path = '/content/drive/MyDrive/Arquivos_Neurotech/BA/BA_CONS'\n",
        "BR_CONS = spark.read.csv(path, sep=';', header =True)\n",
        "path = '/content/drive/MyDrive/Arquivos_Neurotech/CE/CE_CONS'\n",
        "BR_CONS = spark.read.csv(path, sep=';', header =True)\n",
        "path = '/content/drive/MyDrive/Arquivos_Neurotech/DF/DF_CONS'\n",
        "BR_CONS = spark.read.csv(path, sep=';', header =True)\n",
        "path = '/content/drive/MyDrive/Arquivos_Neurotech/ES/ES_CONS'\n",
        "BR_CONS = spark.read.csv(path, sep=';', header =True)\n",
        "path = '/content/drive/MyDrive/Arquivos_Neurotech/GO/GO_CONS'\n",
        "BR_CONS = spark.read.csv(path, sep=';', header =True)\n",
        "path = '/content/drive/MyDrive/Arquivos_Neurotech/MA/MA_CONS'\n",
        "BR_CONS = spark.read.csv(path, sep=';', header =True)\n",
        "path = '/content/drive/MyDrive/Arquivos_Neurotech/MG/MG_CONS'\n",
        "BR_CONS = spark.read.csv(path, sep=';', header =True)\n",
        "path = '/content/drive/MyDrive/Arquivos_Neurotech/MS/MS_CONS'\n",
        "BR_CONS = spark.read.csv(path, sep=';', header =True)\n",
        "path = '/content/drive/MyDrive/Arquivos_Neurotech/MT/MT_CONS'\n",
        "BR_CONS = spark.read.csv(path, sep=';', header =True)\n",
        "path = '/content/drive/MyDrive/Arquivos_Neurotech/PA/PA_CONS'\n",
        "BR_CONS = spark.read.csv(path, sep=';', header =True)\n",
        "path = '/content/drive/MyDrive/Arquivos_Neurotech/PB/PB_CONS'\n",
        "BR = spark.read.csv(path, sep=';', header =True)\n",
        "path = '/content/drive/MyDrive/Arquivos_Neurotech/PE/PE_CONS'\n",
        "BR_CONS = spark.read.csv(path, sep=';', header =True)\n",
        "path = '/content/drive/MyDrive/Arquivos_Neurotech/PI/PI_CONS'\n",
        "BR_CONS = spark.read.csv(path, sep=';', header =True)\n",
        "path = '/content/drive/MyDrive/Arquivos_Neurotech/PR/PR_CONS'\n",
        "BR_CONS = spark.read.csv(path, sep=';', header =True)\n",
        "path = '/content/drive/MyDrive/Arquivos_Neurotech/RJ/RJ_CONS'\n",
        "BR_CONS = spark.read.csv(path, sep=';', header =True)\n",
        "path = '/content/drive/MyDrive/Arquivos_Neurotech/RN/RN_CONS'\n",
        "BR_CONS = spark.read.csv(path, sep=';', header =True)\n",
        "path = '/content/drive/MyDrive/Arquivos_Neurotech/RO/RO_CONS'\n",
        "BR_CONS = spark.read.csv(path, sep=';', header =True)\n",
        "path = '/content/drive/MyDrive/Arquivos_Neurotech/RR/RR_CONS'\n",
        "BR_CONS = spark.read.csv(path, sep=';', header =True)\n",
        "path = '/content/drive/MyDrive/Arquivos_Neurotech/RS/RS_CONS'\n",
        "BR_CONS = spark.read.csv(path, sep=';', header =True)\n",
        "path = '/content/drive/MyDrive/Arquivos_Neurotech/SC/SC_CONS'\n",
        "BR_CONS = spark.read.csv(path, sep=';', header =True)\n",
        "path = '/content/drive/MyDrive/Arquivos_Neurotech/SE/SE_CONS'\n",
        "BR_CONS = spark.read.csv(path, sep=';', header =True)\n",
        "path = '/content/drive/MyDrive/Arquivos_Neurotech/SP/SP_CONS'\n",
        "BR_CONS = spark.read.csv(path, sep=';', header =True)\n",
        "path = '/content/drive/MyDrive/Arquivos_Neurotech/TO/TO_CONS'\n",
        "BR_CONS = spark.read.csv(path, sep=';', header =True)"
      ],
      "metadata": {
        "id": "QUHRs7wMUBOi"
      },
      "execution_count": 12,
      "outputs": []
    },
    {
      "cell_type": "code",
      "source": [
        "BR_CONS.count()"
      ],
      "metadata": {
        "colab": {
          "base_uri": "https://localhost:8080/"
        },
        "id": "PItgdpOb7otW",
        "outputId": "cc12d85a-ebcb-49a8-dfbf-3fa41c8d9bef"
      },
      "execution_count": 13,
      "outputs": [
        {
          "output_type": "execute_result",
          "data": {
            "text/plain": [
              "15859"
            ]
          },
          "metadata": {},
          "execution_count": 13
        }
      ]
    },
    {
      "cell_type": "markdown",
      "source": [
        "BR_DET"
      ],
      "metadata": {
        "id": "XRAztSXag5jr"
      }
    },
    {
      "cell_type": "code",
      "source": [
        "path = '/content/drive/MyDrive/Arquivos_Neurotech/AC/AC_DET'\n",
        "BR_DET = spark.read.csv(path, sep=';', header =True)\n",
        "path = '/content/drive/MyDrive/Arquivos_Neurotech/AL/AL_DET'\n",
        "BR_DET = spark.read.csv(path, sep=';', header =True)\n",
        "path = '/content/drive/MyDrive/Arquivos_Neurotech/AM/AM_DET'\n",
        "BR_DET = spark.read.csv(path, sep=';', header =True)\n",
        "path = '/content/drive/MyDrive/Arquivos_Neurotech/AP/AP_DET'\n",
        "BR_DET = spark.read.csv(path, sep=';', header =True)\n",
        "path = '/content/drive/MyDrive/Arquivos_Neurotech/BA/BA_DET'\n",
        "BR_DET = spark.read.csv(path, sep=';', header =True)\n",
        "path = '/content/drive/MyDrive/Arquivos_Neurotech/CE/CE_DET'\n",
        "BR_DET = spark.read.csv(path, sep=';', header =True)\n",
        "path = '/content/drive/MyDrive/Arquivos_Neurotech/DF/DF_DET'\n",
        "BR_DET = spark.read.csv(path, sep=';', header =True)\n",
        "path = '/content/drive/MyDrive/Arquivos_Neurotech/ES/ES_DET'\n",
        "BR_DET = spark.read.csv(path, sep=';', header =True)\n",
        "path = '/content/drive/MyDrive/Arquivos_Neurotech/GO/GO_DET'\n",
        "BR_DET = spark.read.csv(path, sep=';', header =True)\n",
        "path = '/content/drive/MyDrive/Arquivos_Neurotech/MA/MA_DET'\n",
        "BR_DET = spark.read.csv(path, sep=';', header =True)\n",
        "path = '/content/drive/MyDrive/Arquivos_Neurotech/MG/MG_DET'\n",
        "BR_DET = spark.read.csv(path, sep=';', header =True)\n",
        "path = '/content/drive/MyDrive/Arquivos_Neurotech/MS/MS_DET'\n",
        "BR_DET = spark.read.csv(path, sep=';', header =True)\n",
        "path = '/content/drive/MyDrive/Arquivos_Neurotech/MT/MT_DET'\n",
        "BR_DET = spark.read.csv(path, sep=';', header =True)\n",
        "path = '/content/drive/MyDrive/Arquivos_Neurotech/PA/PA_DET'\n",
        "BR_DET = spark.read.csv(path, sep=';', header =True)\n",
        "path = '/content/drive/MyDrive/Arquivos_Neurotech/PB/PB_DET'\n",
        "BR_DET = spark.read.csv(path, sep=';', header =True)\n",
        "path = '/content/drive/MyDrive/Arquivos_Neurotech/PE/PE_DET'\n",
        "BR_DET = spark.read.csv(path, sep=';', header =True)\n",
        "path = '/content/drive/MyDrive/Arquivos_Neurotech/PI/PI_DET'\n",
        "BR_DET = spark.read.csv(path, sep=';', header =True)\n",
        "path = '/content/drive/MyDrive/Arquivos_Neurotech/PR/PR_DET'\n",
        "BR_DET = spark.read.csv(path, sep=';', header =True)\n",
        "path = '/content/drive/MyDrive/Arquivos_Neurotech/RJ/RJ_DET'\n",
        "BR_DET = spark.read.csv(path, sep=';', header =True)\n",
        "path = '/content/drive/MyDrive/Arquivos_Neurotech/RN/RN_DET'\n",
        "BR_DET = spark.read.csv(path, sep=';', header =True)\n",
        "path = '/content/drive/MyDrive/Arquivos_Neurotech/RO/RO_DET'\n",
        "BR = spark.read.csv(path, sep=';', header =True)\n",
        "path = '/content/drive/MyDrive/Arquivos_Neurotech/RR/RR_DET'\n",
        "BR_DET = spark.read.csv(path, sep=';', header =True)\n",
        "path = '/content/drive/MyDrive/Arquivos_Neurotech/RS/RS_DET'\n",
        "BR_DET = spark.read.csv(path, sep=';', header =True)\n",
        "path = '/content/drive/MyDrive/Arquivos_Neurotech/SC/SC_DET'\n",
        "BR_DET = spark.read.csv(path, sep=';', header =True)\n",
        "path = '/content/drive/MyDrive/Arquivos_Neurotech/SE/SE_DET'\n",
        "BR_DET = spark.read.csv(path, sep=';', header =True)\n",
        "path = '/content/drive/MyDrive/Arquivos_Neurotech/SP/SP_DET'\n",
        "BR_DET = spark.read.csv(path, sep=';', header =True)\n",
        "path = '/content/drive/MyDrive/Arquivos_Neurotech/TO/TO_DET'\n",
        "BR_DET = spark.read.csv(path, sep=';', header =True)"
      ],
      "metadata": {
        "id": "nRIwuSEmWnoq"
      },
      "execution_count": 14,
      "outputs": []
    },
    {
      "cell_type": "code",
      "source": [
        "BR_DET.count()"
      ],
      "metadata": {
        "colab": {
          "base_uri": "https://localhost:8080/"
        },
        "id": "w7pjVWeTfWJp",
        "outputId": "6bb9d2be-881f-46ec-ed13-c7e36d97894a"
      },
      "execution_count": 15,
      "outputs": [
        {
          "output_type": "execute_result",
          "data": {
            "text/plain": [
              "82625"
            ]
          },
          "metadata": {},
          "execution_count": 15
        }
      ]
    },
    {
      "cell_type": "markdown",
      "source": [
        "# Análise Exploratória"
      ],
      "metadata": {
        "id": "1b72NRvV20Pd"
      }
    },
    {
      "cell_type": "code",
      "source": [
        "BR_CONS.limit(5).toPandas()\n"
      ],
      "metadata": {
        "colab": {
          "base_uri": "https://localhost:8080/",
          "height": 305
        },
        "id": "nSFM6OPM8u1Z",
        "outputId": "93f0c3b2-2f3a-46b4-9ba0-5a73d69955ae"
      },
      "execution_count": 16,
      "outputs": [
        {
          "output_type": "execute_result",
          "data": {
            "text/html": [
              "\n",
              "  <div id=\"df-765a021f-3dde-4bee-9487-8bc5e1aa7a9a\">\n",
              "    <div class=\"colab-df-container\">\n",
              "      <div>\n",
              "<style scoped>\n",
              "    .dataframe tbody tr th:only-of-type {\n",
              "        vertical-align: middle;\n",
              "    }\n",
              "\n",
              "    .dataframe tbody tr th {\n",
              "        vertical-align: top;\n",
              "    }\n",
              "\n",
              "    .dataframe thead th {\n",
              "        text-align: right;\n",
              "    }\n",
              "</style>\n",
              "<table border=\"1\" class=\"dataframe\">\n",
              "  <thead>\n",
              "    <tr style=\"text-align: right;\">\n",
              "      <th></th>\n",
              "      <th>ID_EVENTO_ATENCAO_SAUDE</th>\n",
              "      <th>ID_PLANO</th>\n",
              "      <th>FAIXA_ETARIA</th>\n",
              "      <th>SEXO</th>\n",
              "      <th>CD_MUNICIPIO_BENEFICIARIO</th>\n",
              "      <th>PORTE</th>\n",
              "      <th>CD_MODALIDADE</th>\n",
              "      <th>NM_MODALIDADE</th>\n",
              "      <th>CD_MUNICIPIO_PRESTADOR</th>\n",
              "      <th>UF_PRESTADOR</th>\n",
              "      <th>TEMPO_DE_PERMANENCIA</th>\n",
              "      <th>ANO_MES_EVENTO</th>\n",
              "      <th>CD_CARATER_ATENDIMENTO</th>\n",
              "      <th>CD_TIPO_INTERNACAO</th>\n",
              "      <th>CD_REGIME_INTERNACAO</th>\n",
              "      <th>CD_MOTIVO_SAIDA</th>\n",
              "      <th>CID_1</th>\n",
              "      <th>CID_2</th>\n",
              "      <th>CID_3</th>\n",
              "      <th>CID_4</th>\n",
              "      <th>QT_DIARIA_ACOMPANHANTE</th>\n",
              "      <th>QT_DIARIA_UTI</th>\n",
              "      <th>IND_ACIDENTE_DOENCA</th>\n",
              "      <th>LG_VALOR_PREESTABELECIDO</th>\n",
              "    </tr>\n",
              "  </thead>\n",
              "  <tbody>\n",
              "    <tr>\n",
              "      <th>0</th>\n",
              "      <td>2930664821</td>\n",
              "      <td>225240</td>\n",
              "      <td>30 a 39</td>\n",
              "      <td>Masculino</td>\n",
              "      <td>170210</td>\n",
              "      <td>PEQUENO</td>\n",
              "      <td>22</td>\n",
              "      <td>Cooperativa Médica</td>\n",
              "      <td>170210</td>\n",
              "      <td>TO</td>\n",
              "      <td>2</td>\n",
              "      <td>2019-10</td>\n",
              "      <td>2</td>\n",
              "      <td>1</td>\n",
              "      <td>1</td>\n",
              "      <td>12</td>\n",
              "      <td>S610</td>\n",
              "      <td>None</td>\n",
              "      <td>None</td>\n",
              "      <td>None</td>\n",
              "      <td>0</td>\n",
              "      <td>0</td>\n",
              "      <td>9</td>\n",
              "      <td>0</td>\n",
              "    </tr>\n",
              "    <tr>\n",
              "      <th>1</th>\n",
              "      <td>2920667396</td>\n",
              "      <td>215334</td>\n",
              "      <td>60 a 69</td>\n",
              "      <td>Feminino</td>\n",
              "      <td>172120</td>\n",
              "      <td>MÉDIO</td>\n",
              "      <td>24</td>\n",
              "      <td>Autogestão</td>\n",
              "      <td>170210</td>\n",
              "      <td>TO</td>\n",
              "      <td>8</td>\n",
              "      <td>2019-10</td>\n",
              "      <td>1</td>\n",
              "      <td>1</td>\n",
              "      <td>1</td>\n",
              "      <td>21</td>\n",
              "      <td>None</td>\n",
              "      <td>None</td>\n",
              "      <td>None</td>\n",
              "      <td>None</td>\n",
              "      <td>0</td>\n",
              "      <td>0</td>\n",
              "      <td>9</td>\n",
              "      <td>0</td>\n",
              "    </tr>\n",
              "    <tr>\n",
              "      <th>2</th>\n",
              "      <td>2987645747</td>\n",
              "      <td>215334</td>\n",
              "      <td>60 a 69</td>\n",
              "      <td>Masculino</td>\n",
              "      <td>172120</td>\n",
              "      <td>MÉDIO</td>\n",
              "      <td>24</td>\n",
              "      <td>Autogestão</td>\n",
              "      <td>170210</td>\n",
              "      <td>TO</td>\n",
              "      <td>3</td>\n",
              "      <td>2019-10</td>\n",
              "      <td>1</td>\n",
              "      <td>1</td>\n",
              "      <td>1</td>\n",
              "      <td>18</td>\n",
              "      <td>None</td>\n",
              "      <td>None</td>\n",
              "      <td>None</td>\n",
              "      <td>None</td>\n",
              "      <td>0</td>\n",
              "      <td>0</td>\n",
              "      <td>9</td>\n",
              "      <td>0</td>\n",
              "    </tr>\n",
              "    <tr>\n",
              "      <th>3</th>\n",
              "      <td>2920667393</td>\n",
              "      <td>215334</td>\n",
              "      <td>60 a 69</td>\n",
              "      <td>Feminino</td>\n",
              "      <td>172120</td>\n",
              "      <td>MÉDIO</td>\n",
              "      <td>24</td>\n",
              "      <td>Autogestão</td>\n",
              "      <td>170210</td>\n",
              "      <td>TO</td>\n",
              "      <td>8</td>\n",
              "      <td>2019-10</td>\n",
              "      <td>1</td>\n",
              "      <td>1</td>\n",
              "      <td>1</td>\n",
              "      <td>21</td>\n",
              "      <td>None</td>\n",
              "      <td>None</td>\n",
              "      <td>None</td>\n",
              "      <td>None</td>\n",
              "      <td>0</td>\n",
              "      <td>0</td>\n",
              "      <td>9</td>\n",
              "      <td>0</td>\n",
              "    </tr>\n",
              "    <tr>\n",
              "      <th>4</th>\n",
              "      <td>2854193497</td>\n",
              "      <td>238364</td>\n",
              "      <td>60 a 69</td>\n",
              "      <td>Feminino</td>\n",
              "      <td>170210</td>\n",
              "      <td>GRANDE</td>\n",
              "      <td>22</td>\n",
              "      <td>Cooperativa Médica</td>\n",
              "      <td>170210</td>\n",
              "      <td>TO</td>\n",
              "      <td>1</td>\n",
              "      <td>2019-10</td>\n",
              "      <td>1</td>\n",
              "      <td>1</td>\n",
              "      <td>1</td>\n",
              "      <td>12</td>\n",
              "      <td>Z853</td>\n",
              "      <td>None</td>\n",
              "      <td>None</td>\n",
              "      <td>None</td>\n",
              "      <td>0</td>\n",
              "      <td>0</td>\n",
              "      <td>9</td>\n",
              "      <td>0</td>\n",
              "    </tr>\n",
              "  </tbody>\n",
              "</table>\n",
              "</div>\n",
              "      <button class=\"colab-df-convert\" onclick=\"convertToInteractive('df-765a021f-3dde-4bee-9487-8bc5e1aa7a9a')\"\n",
              "              title=\"Convert this dataframe to an interactive table.\"\n",
              "              style=\"display:none;\">\n",
              "        \n",
              "  <svg xmlns=\"http://www.w3.org/2000/svg\" height=\"24px\"viewBox=\"0 0 24 24\"\n",
              "       width=\"24px\">\n",
              "    <path d=\"M0 0h24v24H0V0z\" fill=\"none\"/>\n",
              "    <path d=\"M18.56 5.44l.94 2.06.94-2.06 2.06-.94-2.06-.94-.94-2.06-.94 2.06-2.06.94zm-11 1L8.5 8.5l.94-2.06 2.06-.94-2.06-.94L8.5 2.5l-.94 2.06-2.06.94zm10 10l.94 2.06.94-2.06 2.06-.94-2.06-.94-.94-2.06-.94 2.06-2.06.94z\"/><path d=\"M17.41 7.96l-1.37-1.37c-.4-.4-.92-.59-1.43-.59-.52 0-1.04.2-1.43.59L10.3 9.45l-7.72 7.72c-.78.78-.78 2.05 0 2.83L4 21.41c.39.39.9.59 1.41.59.51 0 1.02-.2 1.41-.59l7.78-7.78 2.81-2.81c.8-.78.8-2.07 0-2.86zM5.41 20L4 18.59l7.72-7.72 1.47 1.35L5.41 20z\"/>\n",
              "  </svg>\n",
              "      </button>\n",
              "      \n",
              "  <style>\n",
              "    .colab-df-container {\n",
              "      display:flex;\n",
              "      flex-wrap:wrap;\n",
              "      gap: 12px;\n",
              "    }\n",
              "\n",
              "    .colab-df-convert {\n",
              "      background-color: #E8F0FE;\n",
              "      border: none;\n",
              "      border-radius: 50%;\n",
              "      cursor: pointer;\n",
              "      display: none;\n",
              "      fill: #1967D2;\n",
              "      height: 32px;\n",
              "      padding: 0 0 0 0;\n",
              "      width: 32px;\n",
              "    }\n",
              "\n",
              "    .colab-df-convert:hover {\n",
              "      background-color: #E2EBFA;\n",
              "      box-shadow: 0px 1px 2px rgba(60, 64, 67, 0.3), 0px 1px 3px 1px rgba(60, 64, 67, 0.15);\n",
              "      fill: #174EA6;\n",
              "    }\n",
              "\n",
              "    [theme=dark] .colab-df-convert {\n",
              "      background-color: #3B4455;\n",
              "      fill: #D2E3FC;\n",
              "    }\n",
              "\n",
              "    [theme=dark] .colab-df-convert:hover {\n",
              "      background-color: #434B5C;\n",
              "      box-shadow: 0px 1px 3px 1px rgba(0, 0, 0, 0.15);\n",
              "      filter: drop-shadow(0px 1px 2px rgba(0, 0, 0, 0.3));\n",
              "      fill: #FFFFFF;\n",
              "    }\n",
              "  </style>\n",
              "\n",
              "      <script>\n",
              "        const buttonEl =\n",
              "          document.querySelector('#df-765a021f-3dde-4bee-9487-8bc5e1aa7a9a button.colab-df-convert');\n",
              "        buttonEl.style.display =\n",
              "          google.colab.kernel.accessAllowed ? 'block' : 'none';\n",
              "\n",
              "        async function convertToInteractive(key) {\n",
              "          const element = document.querySelector('#df-765a021f-3dde-4bee-9487-8bc5e1aa7a9a');\n",
              "          const dataTable =\n",
              "            await google.colab.kernel.invokeFunction('convertToInteractive',\n",
              "                                                     [key], {});\n",
              "          if (!dataTable) return;\n",
              "\n",
              "          const docLinkHtml = 'Like what you see? Visit the ' +\n",
              "            '<a target=\"_blank\" href=https://colab.research.google.com/notebooks/data_table.ipynb>data table notebook</a>'\n",
              "            + ' to learn more about interactive tables.';\n",
              "          element.innerHTML = '';\n",
              "          dataTable['output_type'] = 'display_data';\n",
              "          await google.colab.output.renderOutput(dataTable, element);\n",
              "          const docLink = document.createElement('div');\n",
              "          docLink.innerHTML = docLinkHtml;\n",
              "          element.appendChild(docLink);\n",
              "        }\n",
              "      </script>\n",
              "    </div>\n",
              "  </div>\n",
              "  "
            ],
            "text/plain": [
              "  ID_EVENTO_ATENCAO_SAUDE ID_PLANO  ... IND_ACIDENTE_DOENCA LG_VALOR_PREESTABELECIDO\n",
              "0              2930664821   225240  ...                   9                        0\n",
              "1              2920667396   215334  ...                   9                        0\n",
              "2              2987645747   215334  ...                   9                        0\n",
              "3              2920667393   215334  ...                   9                        0\n",
              "4              2854193497   238364  ...                   9                        0\n",
              "\n",
              "[5 rows x 24 columns]"
            ]
          },
          "metadata": {},
          "execution_count": 16
        }
      ]
    },
    {
      "cell_type": "code",
      "source": [
        "BR_DET.limit(5).toPandas()"
      ],
      "metadata": {
        "colab": {
          "base_uri": "https://localhost:8080/",
          "height": 270
        },
        "id": "eYUSKzX5f02S",
        "outputId": "e5083114-5ab7-4ddc-a12b-6e49aba808e3"
      },
      "execution_count": 17,
      "outputs": [
        {
          "output_type": "execute_result",
          "data": {
            "text/html": [
              "\n",
              "  <div id=\"df-ceb47d81-1b9f-40c2-9fd3-fc4dee5c5e77\">\n",
              "    <div class=\"colab-df-container\">\n",
              "      <div>\n",
              "<style scoped>\n",
              "    .dataframe tbody tr th:only-of-type {\n",
              "        vertical-align: middle;\n",
              "    }\n",
              "\n",
              "    .dataframe tbody tr th {\n",
              "        vertical-align: top;\n",
              "    }\n",
              "\n",
              "    .dataframe thead th {\n",
              "        text-align: right;\n",
              "    }\n",
              "</style>\n",
              "<table border=\"1\" class=\"dataframe\">\n",
              "  <thead>\n",
              "    <tr style=\"text-align: right;\">\n",
              "      <th></th>\n",
              "      <th>ID_EVENTO_ATENCAO_SAUDE</th>\n",
              "      <th>UF_PRESTADOR</th>\n",
              "      <th>TEMPO_DE_PERMANENCIA</th>\n",
              "      <th>ANO_MES_EVENTO</th>\n",
              "      <th>CD_PROCEDIMENTO</th>\n",
              "      <th>CD_TABELA_REFERENCIA</th>\n",
              "      <th>QT_ITEM_EVENTO_INFORMADO</th>\n",
              "      <th>VL_ITEM_EVENTO_INFORMADO</th>\n",
              "      <th>VL_ITEM_PAGO_FORNECEDOR</th>\n",
              "      <th>IND_PACOTE</th>\n",
              "      <th>IND_TABELA_PROPRIA</th>\n",
              "    </tr>\n",
              "  </thead>\n",
              "  <tbody>\n",
              "    <tr>\n",
              "      <th>0</th>\n",
              "      <td>2805733384</td>\n",
              "      <td>TO</td>\n",
              "      <td>2.0</td>\n",
              "      <td>2019-10</td>\n",
              "      <td>31309054</td>\n",
              "      <td>22</td>\n",
              "      <td>1</td>\n",
              "      <td>2389,28</td>\n",
              "      <td>0</td>\n",
              "      <td>0</td>\n",
              "      <td>0</td>\n",
              "    </tr>\n",
              "    <tr>\n",
              "      <th>1</th>\n",
              "      <td>2805733384</td>\n",
              "      <td>TO</td>\n",
              "      <td>2.0</td>\n",
              "      <td>2019-10</td>\n",
              "      <td>40304108</td>\n",
              "      <td>22</td>\n",
              "      <td>1</td>\n",
              "      <td>4,8</td>\n",
              "      <td>0</td>\n",
              "      <td>0</td>\n",
              "      <td>0</td>\n",
              "    </tr>\n",
              "    <tr>\n",
              "      <th>2</th>\n",
              "      <td>2805733384</td>\n",
              "      <td>TO</td>\n",
              "      <td>2.0</td>\n",
              "      <td>2019-10</td>\n",
              "      <td>031</td>\n",
              "      <td>63</td>\n",
              "      <td>17</td>\n",
              "      <td>3375,53</td>\n",
              "      <td>0</td>\n",
              "      <td>0</td>\n",
              "      <td>0</td>\n",
              "    </tr>\n",
              "    <tr>\n",
              "      <th>3</th>\n",
              "      <td>2805733384</td>\n",
              "      <td>TO</td>\n",
              "      <td>2.0</td>\n",
              "      <td>2019-10</td>\n",
              "      <td>40307760</td>\n",
              "      <td>22</td>\n",
              "      <td>1</td>\n",
              "      <td>4,8</td>\n",
              "      <td>0</td>\n",
              "      <td>0</td>\n",
              "      <td>0</td>\n",
              "    </tr>\n",
              "    <tr>\n",
              "      <th>4</th>\n",
              "      <td>2805733384</td>\n",
              "      <td>TO</td>\n",
              "      <td>2.0</td>\n",
              "      <td>2019-10</td>\n",
              "      <td>029</td>\n",
              "      <td>63</td>\n",
              "      <td>158</td>\n",
              "      <td>1010,31</td>\n",
              "      <td>0</td>\n",
              "      <td>0</td>\n",
              "      <td>0</td>\n",
              "    </tr>\n",
              "  </tbody>\n",
              "</table>\n",
              "</div>\n",
              "      <button class=\"colab-df-convert\" onclick=\"convertToInteractive('df-ceb47d81-1b9f-40c2-9fd3-fc4dee5c5e77')\"\n",
              "              title=\"Convert this dataframe to an interactive table.\"\n",
              "              style=\"display:none;\">\n",
              "        \n",
              "  <svg xmlns=\"http://www.w3.org/2000/svg\" height=\"24px\"viewBox=\"0 0 24 24\"\n",
              "       width=\"24px\">\n",
              "    <path d=\"M0 0h24v24H0V0z\" fill=\"none\"/>\n",
              "    <path d=\"M18.56 5.44l.94 2.06.94-2.06 2.06-.94-2.06-.94-.94-2.06-.94 2.06-2.06.94zm-11 1L8.5 8.5l.94-2.06 2.06-.94-2.06-.94L8.5 2.5l-.94 2.06-2.06.94zm10 10l.94 2.06.94-2.06 2.06-.94-2.06-.94-.94-2.06-.94 2.06-2.06.94z\"/><path d=\"M17.41 7.96l-1.37-1.37c-.4-.4-.92-.59-1.43-.59-.52 0-1.04.2-1.43.59L10.3 9.45l-7.72 7.72c-.78.78-.78 2.05 0 2.83L4 21.41c.39.39.9.59 1.41.59.51 0 1.02-.2 1.41-.59l7.78-7.78 2.81-2.81c.8-.78.8-2.07 0-2.86zM5.41 20L4 18.59l7.72-7.72 1.47 1.35L5.41 20z\"/>\n",
              "  </svg>\n",
              "      </button>\n",
              "      \n",
              "  <style>\n",
              "    .colab-df-container {\n",
              "      display:flex;\n",
              "      flex-wrap:wrap;\n",
              "      gap: 12px;\n",
              "    }\n",
              "\n",
              "    .colab-df-convert {\n",
              "      background-color: #E8F0FE;\n",
              "      border: none;\n",
              "      border-radius: 50%;\n",
              "      cursor: pointer;\n",
              "      display: none;\n",
              "      fill: #1967D2;\n",
              "      height: 32px;\n",
              "      padding: 0 0 0 0;\n",
              "      width: 32px;\n",
              "    }\n",
              "\n",
              "    .colab-df-convert:hover {\n",
              "      background-color: #E2EBFA;\n",
              "      box-shadow: 0px 1px 2px rgba(60, 64, 67, 0.3), 0px 1px 3px 1px rgba(60, 64, 67, 0.15);\n",
              "      fill: #174EA6;\n",
              "    }\n",
              "\n",
              "    [theme=dark] .colab-df-convert {\n",
              "      background-color: #3B4455;\n",
              "      fill: #D2E3FC;\n",
              "    }\n",
              "\n",
              "    [theme=dark] .colab-df-convert:hover {\n",
              "      background-color: #434B5C;\n",
              "      box-shadow: 0px 1px 3px 1px rgba(0, 0, 0, 0.15);\n",
              "      filter: drop-shadow(0px 1px 2px rgba(0, 0, 0, 0.3));\n",
              "      fill: #FFFFFF;\n",
              "    }\n",
              "  </style>\n",
              "\n",
              "      <script>\n",
              "        const buttonEl =\n",
              "          document.querySelector('#df-ceb47d81-1b9f-40c2-9fd3-fc4dee5c5e77 button.colab-df-convert');\n",
              "        buttonEl.style.display =\n",
              "          google.colab.kernel.accessAllowed ? 'block' : 'none';\n",
              "\n",
              "        async function convertToInteractive(key) {\n",
              "          const element = document.querySelector('#df-ceb47d81-1b9f-40c2-9fd3-fc4dee5c5e77');\n",
              "          const dataTable =\n",
              "            await google.colab.kernel.invokeFunction('convertToInteractive',\n",
              "                                                     [key], {});\n",
              "          if (!dataTable) return;\n",
              "\n",
              "          const docLinkHtml = 'Like what you see? Visit the ' +\n",
              "            '<a target=\"_blank\" href=https://colab.research.google.com/notebooks/data_table.ipynb>data table notebook</a>'\n",
              "            + ' to learn more about interactive tables.';\n",
              "          element.innerHTML = '';\n",
              "          dataTable['output_type'] = 'display_data';\n",
              "          await google.colab.output.renderOutput(dataTable, element);\n",
              "          const docLink = document.createElement('div');\n",
              "          docLink.innerHTML = docLinkHtml;\n",
              "          element.appendChild(docLink);\n",
              "        }\n",
              "      </script>\n",
              "    </div>\n",
              "  </div>\n",
              "  "
            ],
            "text/plain": [
              "  ID_EVENTO_ATENCAO_SAUDE UF_PRESTADOR  ... IND_PACOTE IND_TABELA_PROPRIA\n",
              "0              2805733384           TO  ...          0                  0\n",
              "1              2805733384           TO  ...          0                  0\n",
              "2              2805733384           TO  ...          0                  0\n",
              "3              2805733384           TO  ...          0                  0\n",
              "4              2805733384           TO  ...          0                  0\n",
              "\n",
              "[5 rows x 11 columns]"
            ]
          },
          "metadata": {},
          "execution_count": 17
        }
      ]
    },
    {
      "cell_type": "code",
      "source": [
        "BR_CONS.printSchema()"
      ],
      "metadata": {
        "colab": {
          "base_uri": "https://localhost:8080/"
        },
        "id": "tbE1QYEgjf1n",
        "outputId": "e297161a-ecd6-4c11-f921-b5f84e72952f"
      },
      "execution_count": 18,
      "outputs": [
        {
          "output_type": "stream",
          "name": "stdout",
          "text": [
            "root\n",
            " |-- ID_EVENTO_ATENCAO_SAUDE: string (nullable = true)\n",
            " |-- ID_PLANO: string (nullable = true)\n",
            " |-- FAIXA_ETARIA: string (nullable = true)\n",
            " |-- SEXO: string (nullable = true)\n",
            " |-- CD_MUNICIPIO_BENEFICIARIO: string (nullable = true)\n",
            " |-- PORTE: string (nullable = true)\n",
            " |-- CD_MODALIDADE: string (nullable = true)\n",
            " |-- NM_MODALIDADE: string (nullable = true)\n",
            " |-- CD_MUNICIPIO_PRESTADOR: string (nullable = true)\n",
            " |-- UF_PRESTADOR: string (nullable = true)\n",
            " |-- TEMPO_DE_PERMANENCIA: string (nullable = true)\n",
            " |-- ANO_MES_EVENTO: string (nullable = true)\n",
            " |-- CD_CARATER_ATENDIMENTO: string (nullable = true)\n",
            " |-- CD_TIPO_INTERNACAO: string (nullable = true)\n",
            " |-- CD_REGIME_INTERNACAO: string (nullable = true)\n",
            " |-- CD_MOTIVO_SAIDA: string (nullable = true)\n",
            " |-- CID_1: string (nullable = true)\n",
            " |-- CID_2: string (nullable = true)\n",
            " |-- CID_3: string (nullable = true)\n",
            " |-- CID_4: string (nullable = true)\n",
            " |-- QT_DIARIA_ACOMPANHANTE: string (nullable = true)\n",
            " |-- QT_DIARIA_UTI: string (nullable = true)\n",
            " |-- IND_ACIDENTE_DOENCA: string (nullable = true)\n",
            " |-- LG_VALOR_PREESTABELECIDO: string (nullable = true)\n",
            "\n"
          ]
        }
      ]
    },
    {
      "cell_type": "code",
      "source": [
        "BR_DET.printSchema()"
      ],
      "metadata": {
        "colab": {
          "base_uri": "https://localhost:8080/"
        },
        "id": "XLaa7FP8j3ym",
        "outputId": "36400e4b-ea10-45d5-b768-1a2310409873"
      },
      "execution_count": 19,
      "outputs": [
        {
          "output_type": "stream",
          "name": "stdout",
          "text": [
            "root\n",
            " |-- ID_EVENTO_ATENCAO_SAUDE: string (nullable = true)\n",
            " |-- UF_PRESTADOR: string (nullable = true)\n",
            " |-- TEMPO_DE_PERMANENCIA: string (nullable = true)\n",
            " |-- ANO_MES_EVENTO: string (nullable = true)\n",
            " |-- CD_PROCEDIMENTO: string (nullable = true)\n",
            " |-- CD_TABELA_REFERENCIA: string (nullable = true)\n",
            " |-- QT_ITEM_EVENTO_INFORMADO: string (nullable = true)\n",
            " |-- VL_ITEM_EVENTO_INFORMADO: string (nullable = true)\n",
            " |-- VL_ITEM_PAGO_FORNECEDOR: string (nullable = true)\n",
            " |-- IND_PACOTE: string (nullable = true)\n",
            " |-- IND_TABELA_PROPRIA: string (nullable = true)\n",
            "\n"
          ]
        }
      ]
    },
    {
      "cell_type": "code",
      "source": [
        "from pyspark.sql.types import DoubleType, StringType, IntegerType\n",
        "from pyspark.sql import functions as f"
      ],
      "metadata": {
        "id": "lX_kDDDfI89S"
      },
      "execution_count": 20,
      "outputs": []
    },
    {
      "cell_type": "code",
      "source": [
        "BR_CONS = BR_CONS \\\n",
        "  .withColumn(\"TEMPO_DE_PERMANENCIA\" ,\n",
        "              BR_CONS[\"TEMPO_DE_PERMANENCIA\"]\n",
        "              .cast(IntegerType()))   \\\n",
        "  .withColumn(\"QT_DIARIA_ACOMPANHANTE\",\n",
        "              BR_CONS[\"QT_DIARIA_ACOMPANHANTE\"]\n",
        "              .cast(IntegerType()))    \\\n",
        "  .withColumn(\"QT_DIARIA_UTI\"  ,\n",
        "              BR_CONS[\"QT_DIARIA_UTI\"]\n",
        "              .cast(IntegerType())) \\\n"
      ],
      "metadata": {
        "id": "3RnZHMI0bMHm"
      },
      "execution_count": 21,
      "outputs": []
    },
    {
      "cell_type": "code",
      "source": [
        "BR_CONS.printSchema()"
      ],
      "metadata": {
        "colab": {
          "base_uri": "https://localhost:8080/"
        },
        "id": "wbE487zQgLUV",
        "outputId": "436f69e4-368d-451d-c564-4d5ccfe3d2f5"
      },
      "execution_count": 22,
      "outputs": [
        {
          "output_type": "stream",
          "name": "stdout",
          "text": [
            "root\n",
            " |-- ID_EVENTO_ATENCAO_SAUDE: string (nullable = true)\n",
            " |-- ID_PLANO: string (nullable = true)\n",
            " |-- FAIXA_ETARIA: string (nullable = true)\n",
            " |-- SEXO: string (nullable = true)\n",
            " |-- CD_MUNICIPIO_BENEFICIARIO: string (nullable = true)\n",
            " |-- PORTE: string (nullable = true)\n",
            " |-- CD_MODALIDADE: string (nullable = true)\n",
            " |-- NM_MODALIDADE: string (nullable = true)\n",
            " |-- CD_MUNICIPIO_PRESTADOR: string (nullable = true)\n",
            " |-- UF_PRESTADOR: string (nullable = true)\n",
            " |-- TEMPO_DE_PERMANENCIA: integer (nullable = true)\n",
            " |-- ANO_MES_EVENTO: string (nullable = true)\n",
            " |-- CD_CARATER_ATENDIMENTO: string (nullable = true)\n",
            " |-- CD_TIPO_INTERNACAO: string (nullable = true)\n",
            " |-- CD_REGIME_INTERNACAO: string (nullable = true)\n",
            " |-- CD_MOTIVO_SAIDA: string (nullable = true)\n",
            " |-- CID_1: string (nullable = true)\n",
            " |-- CID_2: string (nullable = true)\n",
            " |-- CID_3: string (nullable = true)\n",
            " |-- CID_4: string (nullable = true)\n",
            " |-- QT_DIARIA_ACOMPANHANTE: integer (nullable = true)\n",
            " |-- QT_DIARIA_UTI: integer (nullable = true)\n",
            " |-- IND_ACIDENTE_DOENCA: string (nullable = true)\n",
            " |-- LG_VALOR_PREESTABELECIDO: string (nullable = true)\n",
            "\n"
          ]
        }
      ]
    },
    {
      "cell_type": "code",
      "source": [
        "BR_CONS.select([f.count(f.when(f.isnull(c), 1)).alias(c) for c in BR_CONS.columns]).show()"
      ],
      "metadata": {
        "colab": {
          "base_uri": "https://localhost:8080/"
        },
        "id": "6nfLvFkRGEAY",
        "outputId": "9b5f3aa4-235c-4157-fe80-37f4535c443e"
      },
      "execution_count": 23,
      "outputs": [
        {
          "output_type": "stream",
          "name": "stdout",
          "text": [
            "+-----------------------+--------+------------+----+-------------------------+-----+-------------+-------------+----------------------+------------+--------------------+--------------+----------------------+------------------+--------------------+---------------+-----+-----+-----+-----+----------------------+-------------+-------------------+------------------------+\n",
            "|ID_EVENTO_ATENCAO_SAUDE|ID_PLANO|FAIXA_ETARIA|SEXO|CD_MUNICIPIO_BENEFICIARIO|PORTE|CD_MODALIDADE|NM_MODALIDADE|CD_MUNICIPIO_PRESTADOR|UF_PRESTADOR|TEMPO_DE_PERMANENCIA|ANO_MES_EVENTO|CD_CARATER_ATENDIMENTO|CD_TIPO_INTERNACAO|CD_REGIME_INTERNACAO|CD_MOTIVO_SAIDA|CID_1|CID_2|CID_3|CID_4|QT_DIARIA_ACOMPANHANTE|QT_DIARIA_UTI|IND_ACIDENTE_DOENCA|LG_VALOR_PREESTABELECIDO|\n",
            "+-----------------------+--------+------------+----+-------------------------+-----+-------------+-------------+----------------------+------------+--------------------+--------------+----------------------+------------------+--------------------+---------------+-----+-----+-----+-----+----------------------+-------------+-------------------+------------------------+\n",
            "|                      0|       0|           0| 264|                      267|    0|            0|            0|                    26|           0|                   0|             0|                     1|                 0|                  89|              4| 7413|15857|15859|15859|                     0|            0|                358|                       0|\n",
            "+-----------------------+--------+------------+----+-------------------------+-----+-------------+-------------+----------------------+------------+--------------------+--------------+----------------------+------------------+--------------------+---------------+-----+-----+-----+-----+----------------------+-------------+-------------------+------------------------+\n",
            "\n"
          ]
        }
      ]
    },
    {
      "cell_type": "code",
      "source": [
        "BR_DET.select([f.count(f.when(f.isnull(c), 1)).alias(c) for c in BR_DET.columns]).show()"
      ],
      "metadata": {
        "colab": {
          "base_uri": "https://localhost:8080/"
        },
        "id": "JfCXb0yYLgMK",
        "outputId": "b5423a81-79ac-410f-c656-c605459bcd8e"
      },
      "execution_count": 24,
      "outputs": [
        {
          "output_type": "stream",
          "name": "stdout",
          "text": [
            "+-----------------------+------------+--------------------+--------------+---------------+--------------------+------------------------+------------------------+-----------------------+----------+------------------+\n",
            "|ID_EVENTO_ATENCAO_SAUDE|UF_PRESTADOR|TEMPO_DE_PERMANENCIA|ANO_MES_EVENTO|CD_PROCEDIMENTO|CD_TABELA_REFERENCIA|QT_ITEM_EVENTO_INFORMADO|VL_ITEM_EVENTO_INFORMADO|VL_ITEM_PAGO_FORNECEDOR|IND_PACOTE|IND_TABELA_PROPRIA|\n",
            "+-----------------------+------------+--------------------+--------------+---------------+--------------------+------------------------+------------------------+-----------------------+----------+------------------+\n",
            "|                      0|           0|                  27|             0|              0|                   0|                      27|                      27|                     27|         0|                 0|\n",
            "+-----------------------+------------+--------------------+--------------+---------------+--------------------+------------------------+------------------------+-----------------------+----------+------------------+\n",
            "\n"
          ]
        }
      ]
    },
    {
      "cell_type": "code",
      "source": [
        "BR_CONS=BR_CONS.drop(*('CID_1',\n",
        "                       'CID_2',\n",
        "                       'CID_3',\n",
        "                       'CID_4',))\n",
        "BR_CONS.show()\n"
      ],
      "metadata": {
        "colab": {
          "base_uri": "https://localhost:8080/"
        },
        "id": "IfCzXpjoL9Ac",
        "outputId": "04fb5a6d-2fdc-4a7a-d054-6ba7ec868f55"
      },
      "execution_count": 25,
      "outputs": [
        {
          "output_type": "stream",
          "name": "stdout",
          "text": [
            "+-----------------------+--------+----------------+---------+-------------------------+-------+-------------+--------------------+----------------------+------------+--------------------+--------------+----------------------+------------------+--------------------+---------------+----------------------+-------------+-------------------+------------------------+\n",
            "|ID_EVENTO_ATENCAO_SAUDE|ID_PLANO|    FAIXA_ETARIA|     SEXO|CD_MUNICIPIO_BENEFICIARIO|  PORTE|CD_MODALIDADE|       NM_MODALIDADE|CD_MUNICIPIO_PRESTADOR|UF_PRESTADOR|TEMPO_DE_PERMANENCIA|ANO_MES_EVENTO|CD_CARATER_ATENDIMENTO|CD_TIPO_INTERNACAO|CD_REGIME_INTERNACAO|CD_MOTIVO_SAIDA|QT_DIARIA_ACOMPANHANTE|QT_DIARIA_UTI|IND_ACIDENTE_DOENCA|LG_VALOR_PREESTABELECIDO|\n",
            "+-----------------------+--------+----------------+---------+-------------------------+-------+-------------+--------------------+----------------------+------------+--------------------+--------------+----------------------+------------------+--------------------+---------------+----------------------+-------------+-------------------+------------------------+\n",
            "|             2930664821|  225240|         30 a 39|Masculino|                   170210|PEQUENO|           22|  Cooperativa Médica|                170210|          TO|                   2|       2019-10|                     2|                 1|                   1|             12|                     0|            0|                  9|                       0|\n",
            "|             2920667396|  215334|         60 a 69| Feminino|                   172120|  MÉDIO|           24|          Autogestão|                170210|          TO|                   8|       2019-10|                     1|                 1|                   1|             21|                     0|            0|                  9|                       0|\n",
            "|             2987645747|  215334|         60 a 69|Masculino|                   172120|  MÉDIO|           24|          Autogestão|                170210|          TO|                   3|       2019-10|                     1|                 1|                   1|             18|                     0|            0|                  9|                       0|\n",
            "|             2920667393|  215334|         60 a 69| Feminino|                   172120|  MÉDIO|           24|          Autogestão|                170210|          TO|                   8|       2019-10|                     1|                 1|                   1|             21|                     0|            0|                  9|                       0|\n",
            "|             2854193497|  238364|         60 a 69| Feminino|                   170210| GRANDE|           22|  Cooperativa Médica|                170210|          TO|                   1|       2019-10|                     1|                 1|                   1|             12|                     0|            0|                  9|                       0|\n",
            "|             2987642670|  215334|         60 a 69|Masculino|                   172120|  MÉDIO|           24|          Autogestão|                170210|          TO|                  29|       2019-10|                     1|                 1|                   1|             21|                     0|            0|                  9|                       0|\n",
            "|             2892368829|  215191|Não identificado|     null|                     null|  MÉDIO|           24|          Autogestão|                170210|          TO|                   5|       2019-10|                     1|                 1|                   1|             21|                     0|            0|                  9|                       0|\n",
            "|             2893221992|  225236|         40 a 49| Feminino|                   170210|PEQUENO|           22|  Cooperativa Médica|                170210|          TO|                   1|       2019-10|                     1|                 2|                   1|             12|                     0|            0|                  9|                       0|\n",
            "|             3453554843|  235081|         30 a 39|Masculino|                   172120| GRANDE|           28|Seguradora Especi...|                170210|          TO|                   1|       2019-10|                     1|                 2|                   1|             12|                     0|            0|                  9|                       0|\n",
            "|             2987640626|  215334|         60 a 69|Masculino|                   172120|  MÉDIO|           24|          Autogestão|                170210|          TO|                  29|       2019-10|                     1|                 1|                   1|             21|                     0|            0|                  9|                       0|\n",
            "|             2987645736|  215334|         60 a 69|Masculino|                   172120|  MÉDIO|           24|          Autogestão|                170210|          TO|                   3|       2019-10|                     1|                 1|                   1|             18|                     0|            0|                  9|                       0|\n",
            "|             2893217795|  170517|         20 a 29| Feminino|                   170210|PEQUENO|           22|  Cooperativa Médica|                170210|          TO|                   2|       2019-10|                     1|                 3|                   1|             61|                     0|            0|                  9|                       0|\n",
            "|             2987640601|  215334|         60 a 69|Masculino|                   172120|  MÉDIO|           24|          Autogestão|                170210|          TO|                  29|       2019-10|                     1|                 1|                   1|             21|                     0|            0|                  9|                       0|\n",
            "|             2987645732|  215334|         60 a 69|Masculino|                   172120|  MÉDIO|           24|          Autogestão|                170210|          TO|                   3|       2019-10|                     1|                 1|                   1|             18|                     0|            0|                  9|                       0|\n",
            "|             2897817209|  227415|         30 a 39| Feminino|                   172100|  MÉDIO|           22|  Cooperativa Médica|                170210|          TO|                   3|       2019-10|                     2|                 1|                   1|             11|                     0|            0|                  9|                       0|\n",
            "|             2944919445|  225240|         40 a 49|Masculino|                   170210|PEQUENO|           22|  Cooperativa Médica|                170210|          TO|                   1|       2019-10|                     2|                 2|                   1|             12|                     0|            0|                  9|                       0|\n",
            "|             2962475130|  234587|           1 a 4|Masculino|                   330455|PEQUENO|           22|  Cooperativa Médica|                170210|          TO|                   1|       2019-10|                     2|                 4|                   1|             12|                     0|            0|                  9|                       0|\n",
            "|             2853884923|  238364|           1 a 4|Masculino|                   520870| GRANDE|           22|  Cooperativa Médica|                170210|          TO|                   1|       2019-10|                     1|                 1|                   1|             12|                     0|            0|                  9|                       0|\n",
            "|             2893213249|  175087|         50 a 59| Feminino|                   170210|PEQUENO|           22|  Cooperativa Médica|                170210|          TO|                   2|       2019-10|                     1|                 2|                   1|             12|                     0|            0|                  9|                       0|\n",
            "|             2893214664|  225254|           1 a 4| Feminino|                   170210|PEQUENO|           22|  Cooperativa Médica|                170210|          TO|                   1|       2019-10|                     2|                 4|                   1|             12|                     1|            0|                  9|                       0|\n",
            "+-----------------------+--------+----------------+---------+-------------------------+-------+-------------+--------------------+----------------------+------------+--------------------+--------------+----------------------+------------------+--------------------+---------------+----------------------+-------------+-------------------+------------------------+\n",
            "only showing top 20 rows\n",
            "\n"
          ]
        }
      ]
    },
    {
      "cell_type": "code",
      "source": [
        "BR_CONS = BR_CONS.dropna()"
      ],
      "metadata": {
        "id": "MFh5Bw42P1DT"
      },
      "execution_count": 27,
      "outputs": []
    },
    {
      "cell_type": "code",
      "source": [
        "BR_DET = BR_DET.dropna()"
      ],
      "metadata": {
        "id": "XcHZXc7qQx65"
      },
      "execution_count": 28,
      "outputs": []
    },
    {
      "cell_type": "code",
      "source": [
        "BR_CONS.select([f.count(f.when(f.isnull(c), 1)).alias(c) for c in BR_CONS.columns]).show()"
      ],
      "metadata": {
        "colab": {
          "base_uri": "https://localhost:8080/"
        },
        "id": "6odKk1DPREr5",
        "outputId": "1a1e9b65-08a8-48fa-f07f-e32ec63a08b0"
      },
      "execution_count": 29,
      "outputs": [
        {
          "output_type": "stream",
          "name": "stdout",
          "text": [
            "+-----------------------+--------+------------+----+-------------------------+-----+-------------+-------------+----------------------+------------+--------------------+--------------+----------------------+------------------+--------------------+---------------+----------------------+-------------+-------------------+------------------------+\n",
            "|ID_EVENTO_ATENCAO_SAUDE|ID_PLANO|FAIXA_ETARIA|SEXO|CD_MUNICIPIO_BENEFICIARIO|PORTE|CD_MODALIDADE|NM_MODALIDADE|CD_MUNICIPIO_PRESTADOR|UF_PRESTADOR|TEMPO_DE_PERMANENCIA|ANO_MES_EVENTO|CD_CARATER_ATENDIMENTO|CD_TIPO_INTERNACAO|CD_REGIME_INTERNACAO|CD_MOTIVO_SAIDA|QT_DIARIA_ACOMPANHANTE|QT_DIARIA_UTI|IND_ACIDENTE_DOENCA|LG_VALOR_PREESTABELECIDO|\n",
            "+-----------------------+--------+------------+----+-------------------------+-----+-------------+-------------+----------------------+------------+--------------------+--------------+----------------------+------------------+--------------------+---------------+----------------------+-------------+-------------------+------------------------+\n",
            "|                      0|       0|           0|   0|                        0|    0|            0|            0|                     0|           0|                   0|             0|                     0|                 0|                   0|              0|                     0|            0|                  0|                       0|\n",
            "+-----------------------+--------+------------+----+-------------------------+-----+-------------+-------------+----------------------+------------+--------------------+--------------+----------------------+------------------+--------------------+---------------+----------------------+-------------+-------------------+------------------------+\n",
            "\n"
          ]
        }
      ]
    },
    {
      "cell_type": "code",
      "source": [
        "BR_DET.select([f.count(f.when(f.isnull(c), 1)).alias(c) for c in BR_DET.columns]).show()"
      ],
      "metadata": {
        "colab": {
          "base_uri": "https://localhost:8080/"
        },
        "id": "hx53MLdvQ80y",
        "outputId": "fdf9ddb8-21ce-4df1-b046-bae1fe7c9a89"
      },
      "execution_count": 30,
      "outputs": [
        {
          "output_type": "stream",
          "name": "stdout",
          "text": [
            "+-----------------------+------------+--------------------+--------------+---------------+--------------------+------------------------+------------------------+-----------------------+----------+------------------+\n",
            "|ID_EVENTO_ATENCAO_SAUDE|UF_PRESTADOR|TEMPO_DE_PERMANENCIA|ANO_MES_EVENTO|CD_PROCEDIMENTO|CD_TABELA_REFERENCIA|QT_ITEM_EVENTO_INFORMADO|VL_ITEM_EVENTO_INFORMADO|VL_ITEM_PAGO_FORNECEDOR|IND_PACOTE|IND_TABELA_PROPRIA|\n",
            "+-----------------------+------------+--------------------+--------------+---------------+--------------------+------------------------+------------------------+-----------------------+----------+------------------+\n",
            "|                      0|           0|                   0|             0|              0|                   0|                       0|                       0|                      0|         0|                 0|\n",
            "+-----------------------+------------+--------------------+--------------+---------------+--------------------+------------------------+------------------------+-----------------------+----------+------------------+\n",
            "\n"
          ]
        }
      ]
    },
    {
      "cell_type": "code",
      "source": [
        "plt.figure( figsize=(15,8) ) \n",
        "sns.heatmap(BR_CONS.corr(), annot=True)"
      ],
      "metadata": {
        "id": "1O_7liKkic7u"
      },
      "execution_count": null,
      "outputs": []
    },
    {
      "cell_type": "code",
      "source": [
        "plt.figure(figsize=(20, 5), dpi=100)\n",
        "plt.bar(BR_CONS[\"FAIXA_ETARIA\"], BR_CONS[\"TEMPO_DE_PERMANENCIA\"])\n",
        "plt.ylabel('Tempo de permanencia')\n",
        "plt.xlabel('Ano-Mes')\n",
        "plt.title('Tempo de Permanência por faixa etária')\n",
        "plt.show()"
      ],
      "metadata": {
        "id": "yRWZeJSr3A37"
      },
      "execution_count": null,
      "outputs": []
    },
    {
      "cell_type": "code",
      "source": [
        "plt.figure(figsize=(20, 5), dpi=100)\n",
        "plt.bar(df_AC_CONS_TEST[\"FAIXA_ETARIA\"],df_AC_CONS_TEST[\"TEMPO_DE_PERMANENCIA\"])\n",
        "plt.ylabel('Tempo de permanencia')\n",
        "plt.xlabel('Ano-Mes')\n",
        "plt.title('Tempo de Permanncia por faixa etária')\n",
        "plt.show()"
      ],
      "metadata": {
        "id": "Y1mlsSNZWUOA"
      },
      "execution_count": null,
      "outputs": []
    },
    {
      "cell_type": "markdown",
      "source": [
        "# 2 - Pré-processamento de dados"
      ],
      "metadata": {
        "id": "0Jin-0rrEYH5"
      }
    },
    {
      "cell_type": "code",
      "source": [
        "# Deletando a coluna que contém informação da data\n",
        "del new_temperature_data['Date']"
      ],
      "metadata": {
        "id": "HR0bFLyuEiWk"
      },
      "execution_count": null,
      "outputs": []
    },
    {
      "cell_type": "code",
      "source": [
        "# dividindo o dataset em variaveis dependentes e independentes \n",
        "\n",
        "x = new_temperature_data.iloc[:,:22]\n",
        "y = new_temperature_data.iloc[:,22]\n",
        "\n",
        "\n",
        "# determinando o formato de x e y.\n",
        "print(x.shape)\n",
        "print(y.shape)\n"
      ],
      "metadata": {
        "colab": {
          "base_uri": "https://localhost:8080/"
        },
        "id": "64vBERyQEyV3",
        "outputId": "a89f3403-f4bd-41ae-b03a-fd11ef000e28"
      },
      "execution_count": null,
      "outputs": [
        {
          "output_type": "stream",
          "name": "stdout",
          "text": [
            "(7588, 22)\n",
            "(7588,)\n"
          ]
        }
      ]
    },
    {
      "cell_type": "code",
      "source": [
        "# Dividindo os dados em treinamento e teste \n",
        "from sklearn.model_selection  import train_test_split\n",
        "\n",
        "x_train, x_test, y_train, y_test = train_test_split(x, y, test_size = 0.25, random_state = 0)\n",
        "\n",
        "# Determinando o formato de treino e teste dos dados \n",
        "print(x_train.shape)\n",
        "print(y_train.shape)\n",
        "print(x_test.shape)\n",
        "print(y_test.shape)"
      ],
      "metadata": {
        "colab": {
          "base_uri": "https://localhost:8080/"
        },
        "id": "63J1oIWgE8O5",
        "outputId": "437c5f09-c655-4884-c3ed-7f1a2002c130"
      },
      "execution_count": null,
      "outputs": [
        {
          "output_type": "stream",
          "name": "stdout",
          "text": [
            "(5691, 22)\n",
            "(5691,)\n",
            "(1897, 22)\n",
            "(1897,)\n"
          ]
        }
      ]
    },
    {
      "cell_type": "code",
      "source": [
        "# Fazendo preprocessamento dos dados com standard scaling \n",
        "from sklearn.preprocessing import StandardScaler\n",
        "\n",
        "sc = StandardScaler()\n",
        "x_train = sc.fit_transform(x_train)\n",
        "x_test = sc.fit_transform(x_test)"
      ],
      "metadata": {
        "id": "NsEEvSVTEs4k"
      },
      "execution_count": null,
      "outputs": []
    },
    {
      "cell_type": "markdown",
      "source": [
        "# 3 - Modelando Dados"
      ],
      "metadata": {
        "id": "2Yzm66W2FgR_"
      }
    },
    {
      "cell_type": "code",
      "source": [
        "# Importando o modelo de árvore aleatória regressor\n",
        "from sklearn.ensemble import RandomForestRegressor\n",
        "# Intanciando o modelo com 100 árvores de decisão\n",
        "rf = RandomForestRegressor(n_estimators = 100, random_state = 0)\n",
        "# Treinando os dados\n",
        "rf.fit(x_train, y_train);"
      ],
      "metadata": {
        "id": "cZfs-UizFmvh"
      },
      "execution_count": null,
      "outputs": []
    },
    {
      "cell_type": "code",
      "source": [
        "# Aplicando os dados de teste no modelo para fazer as predições\n",
        "predictions = rf.predict(x_test)"
      ],
      "metadata": {
        "id": "sI5WgRMtFzDC"
      },
      "execution_count": null,
      "outputs": []
    },
    {
      "cell_type": "code",
      "source": [
        "#Verificando que as predições(Next_Tmax) estão muito próximas da variável Next_Tmax\n",
        "plt.figure(figsize=(20,5), dpi=100)\n",
        "plt.plot(y_test.to_numpy(),label=\"Next_Tmax\")\n",
        "plt.plot(predictions,label=\"Predições de Next_Tmax\")\n",
        "plt.legend()\n",
        "plt.show()"
      ],
      "metadata": {
        "id": "7689xa8kF6mV",
        "colab": {
          "base_uri": "https://localhost:8080/",
          "height": 266
        },
        "outputId": "0fbefd4b-8858-4ede-edb6-8350af809c96"
      },
      "execution_count": null,
      "outputs": [
        {
          "output_type": "display_data",
          "data": {
            "image/png": "[encoded data removed]",
            "text/plain": [
              "<Figure size 2000x500 with 1 Axes>"
            ]
          },
          "metadata": {
            "needs_background": "light"
          }
        }
      ]
    },
    {
      "cell_type": "code",
      "source": [
        "# Calculando as métricas\n",
        "from sklearn import metrics\n",
        "\n",
        "\n",
        "print('Mean Absolute Error:', metrics.mean_absolute_error(y_test, predictions))\n",
        "print('Mean Squared Error:', metrics.mean_squared_error(y_test, predictions))\n",
        "print('Root Mean Squared Error:', np.sqrt(metrics.mean_squared_error(y_test, predictions)))"
      ],
      "metadata": {
        "id": "5gGgt0rkF70K",
        "colab": {
          "base_uri": "https://localhost:8080/"
        },
        "outputId": "cf087ebc-3d3e-4b23-c10f-c05b1c361053"
      },
      "execution_count": null,
      "outputs": [
        {
          "output_type": "stream",
          "name": "stdout",
          "text": [
            "Mean Absolute Error: 0.7646868740115969\n",
            "Mean Squared Error: 1.014640717448602\n",
            "Root Mean Squared Error: 1.0072937592622135\n"
          ]
        }
      ]
    }
  ]
}